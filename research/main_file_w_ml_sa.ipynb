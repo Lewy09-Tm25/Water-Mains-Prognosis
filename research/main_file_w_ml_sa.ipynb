{
 "cells": [
  {
   "cell_type": "code",
   "execution_count": 1,
   "id": "fb8381cb-c617-49b3-988b-64f91d338b50",
   "metadata": {
    "tags": []
   },
   "outputs": [],
   "source": [
    "import pandas as pd\n",
    "import numpy as np\n",
    "import random\n",
    "import matplotlib.pyplot as plt\n",
    "\n",
    "from sklearn.preprocessing import StandardScaler\n",
    "from sklearn.metrics import mean_absolute_error,mean_squared_error,r2_score\n",
    "from sklearn.model_selection import cross_val_score,cross_validate\n",
    "from sklearn.linear_model import LinearRegression, Ridge, Lasso, SGDRegressor\n",
    "from sklearn.svm import LinearSVR\n",
    "from sklearn.ensemble import RandomForestRegressor, AdaBoostRegressor, ExtraTreesRegressor, GradientBoostingRegressor\n",
    "from sklearn.neighbors import KNeighborsRegressor\n",
    "\n",
    "import xgboost as xgb\n",
    "import lightgbm as lgb\n",
    "\n",
    "from sklearn.model_selection import train_test_split\n",
    "from xgbse.metrics import concordance_index,approx_brier_score,dist_calibration_score\n",
    "from xgbse.non_parametric import get_time_bins\n",
    "from xgbse import (\n",
    "    XGBSEKaplanNeighbors,\n",
    "    XGBSEKaplanTree,\n",
    "    XGBSEDebiasedBCE,\n",
    "    XGBSEBootstrapEstimator\n",
    ")\n",
    "from xgbse.converters import (\n",
    "    convert_data_to_xgb_format,\n",
    "    convert_to_structured\n",
    ")"
   ]
  },
  {
   "cell_type": "code",
   "execution_count": 2,
   "id": "0c9cb2e6-2dec-4faa-b9fc-b51658ea676c",
   "metadata": {
    "tags": []
   },
   "outputs": [],
   "source": [
    "ds2 = pd.read_csv(\"Datasets/Omar et al/Water_Main_Breaks_-5993635238338754379.csv\")\n",
    "ds1 = pd.read_csv(\"Datasets/Omar et al/Water_Mains_3460402167144613830.csv\")\n",
    "# ds3 = pd.read_csv(\"../../Datasets/Omar et al/Roads_4363648288697125466.csv\")"
   ]
  },
  {
   "cell_type": "markdown",
   "id": "ea71c55b-6382-48e2-b9d2-47b11307b204",
   "metadata": {},
   "source": [
    "### Focus on just ds2"
   ]
  },
  {
   "cell_type": "code",
   "execution_count": 3,
   "id": "96e761c3-08a0-4b9f-9536-719ae91e095c",
   "metadata": {
    "tags": []
   },
   "outputs": [],
   "source": [
    "ds2 = ds2[list(ds2.isnull().sum().index[ds2.isnull().sum() < 2000])]"
   ]
  },
  {
   "cell_type": "code",
   "execution_count": 4,
   "id": "357861e7-51a8-4a69-b561-a3bff7d1ba1b",
   "metadata": {
    "tags": []
   },
   "outputs": [],
   "source": [
    "ds2 = ds2.drop(['CW Workorder #','Closest Civic Number','Street','Asset Exists','Current status of the break'\n",
    "                ,'Status last updated date'], axis = 1)"
   ]
  },
  {
   "cell_type": "code",
   "execution_count": 5,
   "id": "acf37726-99c9-4f4d-86a9-06bf37fb3de0",
   "metadata": {
    "tags": []
   },
   "outputs": [],
   "source": [
    "# We know that there are multiple instances of a pipe breaking more than once, the 'nbr' by the omar et al.so that we don't get\n",
    "# let's create a column with the no.of breaks of a 'related asset id'.\n",
    "\n",
    "rel_ass_id = ds2['Related Asset ID'].value_counts()\n",
    "ds2['Instances'] = ds2['Related Asset ID'].map(rel_ass_id)"
   ]
  },
  {
   "cell_type": "markdown",
   "id": "407fd3b7-5ff9-4ff8-8b0a-2c9b1301e57c",
   "metadata": {},
   "source": [
    "### Focus on ds1"
   ]
  },
  {
   "cell_type": "code",
   "execution_count": 6,
   "id": "9b0ee125-3b6e-47f1-9c78-5b3d7afc71a0",
   "metadata": {
    "tags": []
   },
   "outputs": [],
   "source": [
    "ds1 = ds1[list(ds1.isnull().sum().index[ds1.isnull().sum() < 10000])]"
   ]
  },
  {
   "cell_type": "code",
   "execution_count": 7,
   "id": "dd40b249-b28b-47c7-8e63-0b4382dc0bac",
   "metadata": {
    "tags": []
   },
   "outputs": [],
   "source": [
    "ds21 = ds2.merge(ds1,'right',left_on=\"Related Asset ID\",right_on=\"WATMAINID\")"
   ]
  },
  {
   "cell_type": "code",
   "execution_count": 8,
   "id": "af168379-4809-4366-bc65-179c2daa3130",
   "metadata": {
    "tags": []
   },
   "outputs": [],
   "source": [
    "ds21 = ds21.dropna(subset=['INSTALLATION_DATE'])"
   ]
  },
  {
   "cell_type": "code",
   "execution_count": 9,
   "id": "25c497e2-0981-46ed-9755-e9650ea3e4bb",
   "metadata": {
    "tags": []
   },
   "outputs": [],
   "source": [
    "cols_to_drop = ['Year Asset Installed','OBJECTID_x','OBJECTID_y','Wat Break Incident ID','Road Segment ID','GLOBALID','x','y']\n",
    "ds21 = ds21.drop(cols_to_drop, axis = 1)"
   ]
  },
  {
   "cell_type": "code",
   "execution_count": 10,
   "id": "596a7de5-96c1-49d9-8db8-7688e298afec",
   "metadata": {
    "tags": []
   },
   "outputs": [
    {
     "data": {
      "text/plain": [
       "Incident date                  14690\n",
       "Type of Asset Broken           14690\n",
       "Nature of Break                14838\n",
       "Apparent cause of break        14908\n",
       "Categorization of the Break    14832\n",
       "Related Asset ID               14690\n",
       "Asset Size (cm)                14692\n",
       "Asset Material                 14692\n",
       "UPDATE_BY                      15011\n",
       "UPDATE_DATE                    15011\n",
       "Instances                      14690\n",
       "WATMAINID                          0\n",
       "STATUS                             0\n",
       "PRESSURE_ZONE                      0\n",
       "ROADSEGMENTID                      0\n",
       "MAP_LABEL                          0\n",
       "CATEGORY                           0\n",
       "PIPE_SIZE                          0\n",
       "MATERIAL                           0\n",
       "LINED                              0\n",
       "LINED_MATERIAL                     0\n",
       "INSTALLATION_DATE                  0\n",
       "ACQUISITION                        0\n",
       "OWNERSHIP                          0\n",
       "BRIDGE_MAIN                        0\n",
       "CRITICALITY                        0\n",
       "REL_CLEANING_AREA                  0\n",
       "REL_CLEANING_SUBAREA               0\n",
       "Undersized                         0\n",
       "Shallow Main                       0\n",
       "Condition Score                  644\n",
       "OVERSIZED                          0\n",
       "CLEANED                            0\n",
       "Shape__Length                      0\n",
       "dtype: int64"
      ]
     },
     "execution_count": 10,
     "metadata": {},
     "output_type": "execute_result"
    }
   ],
   "source": [
    "ds21.isnull().sum()"
   ]
  },
  {
   "cell_type": "code",
   "execution_count": 11,
   "id": "6681d883-5c13-4899-8886-aad6588dd4e6",
   "metadata": {
    "tags": []
   },
   "outputs": [],
   "source": [
    "# Handling 'Instances' and converting it into the target variable\n",
    "\n",
    "ds21['Instances'] = ds21['Instances'].fillna(0)\n",
    "ds21['Instances'] = ds21['Instances'].apply(lambda x: 1 if x != 0.0 else 0)"
   ]
  },
  {
   "cell_type": "code",
   "execution_count": 12,
   "id": "54066217-2d31-416c-a245-b5f149498bee",
   "metadata": {
    "tags": []
   },
   "outputs": [
    {
     "data": {
      "text/plain": [
       "0    14690\n",
       "1     2339\n",
       "Name: Instances, dtype: int64"
      ]
     },
     "execution_count": 12,
     "metadata": {},
     "output_type": "execute_result"
    }
   ],
   "source": [
    "ds21['Instances'].value_counts()"
   ]
  },
  {
   "cell_type": "code",
   "execution_count": 13,
   "id": "f9966caf-860a-4bd7-b5da-60609e2c3e62",
   "metadata": {
    "tags": []
   },
   "outputs": [],
   "source": [
    "ds21['Incident date'] = pd.to_datetime(ds21['Incident date'])\n",
    "ds21['INSTALLATION_DATE'] = pd.to_datetime(ds21['INSTALLATION_DATE'])"
   ]
  },
  {
   "cell_type": "code",
   "execution_count": 14,
   "id": "15877415-ed82-4857-afa3-cb257b2ce6ce",
   "metadata": {
    "tags": []
   },
   "outputs": [],
   "source": [
    "ds21['Incident_Month'] = ds21['Incident date'].dt.month\n",
    "ds21['Incident_Year'] = ds21['Incident date'].dt.year\n",
    "ds21['Installation_Month'] = ds21['INSTALLATION_DATE'].dt.month\n",
    "ds21['Installation_Year'] = ds21['INSTALLATION_DATE'].dt.year\n",
    "\n",
    "ds21 = ds21.drop(['INSTALLATION_DATE','Incident date'], axis = 1)"
   ]
  },
  {
   "cell_type": "code",
   "execution_count": 15,
   "id": "43de4411-4b6c-403d-8e03-7b991b058465",
   "metadata": {
    "tags": []
   },
   "outputs": [],
   "source": [
    "# final removal of columns that we don't need, or are redundant, like material and pipe size\n",
    "cols_2_remove = ['Asset Size (cm)','Asset Material','ROADSEGMENTID','Related Asset ID','WATMAINID',\n",
    "                 'UPDATE_BY','UPDATE_DATE','MAP_LABEL']\n",
    "ds21 = ds21.drop(cols_2_remove, axis = 1)"
   ]
  },
  {
   "cell_type": "code",
   "execution_count": 16,
   "id": "81316cfa-f11b-4ca0-be67-3fa3a57d7a35",
   "metadata": {
    "tags": []
   },
   "outputs": [],
   "source": [
    "ds_breaks = ds21.loc[ds21['Instances'] == 1]"
   ]
  },
  {
   "cell_type": "code",
   "execution_count": 17,
   "id": "bd446d35-4e0b-4f51-9064-8d7f0c728f69",
   "metadata": {
    "tags": []
   },
   "outputs": [
    {
     "data": {
      "text/plain": [
       "(2339, 28)"
      ]
     },
     "execution_count": 17,
     "metadata": {},
     "output_type": "execute_result"
    }
   ],
   "source": [
    "ds_breaks.shape"
   ]
  },
  {
   "cell_type": "markdown",
   "id": "0fd55b8c-0a69-4a5c-961c-fc5109339f34",
   "metadata": {
    "tags": []
   },
   "source": [
    "So, we have 2329 breaks (1), and we will have their incident months and years. first let's scale it doewn to the lowest until of time possible in the dataset, that is Months. if we use survival analysis, that tells us the no.of months left until a certain break occurs, then it would be good.\n",
    "\n",
    "first, we will use the lifelines library. first, use CoxPHM. model linear relationship between the covariates and the population based on time.\n",
    "\n",
    "for censored data, the 'Year' column will be 'Installation_Year' - 2024. for those pipes that broke, the 'Year' column will be 'Installation_Year' - Incident_Year'. So, basically age of the pipe for censored data, and duration until a break for break data."
   ]
  },
  {
   "cell_type": "code",
   "execution_count": 18,
   "id": "71d5de54-2f83-40e9-9f25-ba98e3243014",
   "metadata": {
    "tags": []
   },
   "outputs": [],
   "source": [
    "def surv_col(x):\n",
    "    if x['Instances'] == 0:\n",
    "        return (2024 - x['Installation_Year'])\n",
    "    else:\n",
    "        return (x['Incident_Year'] - x['Installation_Year'])\n",
    "        \n",
    "surv_breaks = []\n",
    "for i,row in ds21.iterrows():\n",
    "    surv_breaks.append(surv_col(row))"
   ]
  },
  {
   "cell_type": "code",
   "execution_count": 19,
   "id": "061d2aee-d358-4534-966b-81333868d232",
   "metadata": {
    "tags": []
   },
   "outputs": [],
   "source": [
    "ds21['Break_Time'] = surv_breaks"
   ]
  },
  {
   "cell_type": "code",
   "execution_count": 20,
   "id": "0f2e70f3-e2b7-469c-b025-96f0fb59ecf6",
   "metadata": {
    "tags": []
   },
   "outputs": [],
   "source": [
    "ds21.rename(columns = {'Instances':'Label','Type of Asset Broken':'Broken_asset_type'\n",
    "                        ,'Nature of Break':'break_nature','Apparent cause of break':'break_cause'\n",
    "                        ,'Categorization of the Break':'break_category','Condition Score':'Condition_score'\n",
    "                        ,'Shallow Main':'shallow_main'}, inplace = True)"
   ]
  },
  {
   "cell_type": "code",
   "execution_count": 21,
   "id": "010aa96a-5b45-4ea3-b2cb-ceeb37312c0c",
   "metadata": {
    "tags": []
   },
   "outputs": [],
   "source": [
    "# also dropping incident dates.\n",
    "\n",
    "dss = ds21.drop(['STATUS','Broken_asset_type','break_nature','break_cause','break_category','Incident_Month','Incident_Year'], axis = 1)"
   ]
  },
  {
   "cell_type": "code",
   "execution_count": 22,
   "id": "2bdfeb5a-d1a1-4344-9dbf-d2a83435675e",
   "metadata": {
    "tags": []
   },
   "outputs": [
    {
     "data": {
      "text/plain": [
       "Index(['Label', 'PRESSURE_ZONE', 'CATEGORY', 'PIPE_SIZE', 'MATERIAL', 'LINED',\n",
       "       'LINED_MATERIAL', 'ACQUISITION', 'OWNERSHIP', 'BRIDGE_MAIN',\n",
       "       'CRITICALITY', 'REL_CLEANING_AREA', 'REL_CLEANING_SUBAREA',\n",
       "       'Undersized', 'shallow_main', 'Condition_score', 'OVERSIZED', 'CLEANED',\n",
       "       'Shape__Length', 'Installation_Month', 'Installation_Year',\n",
       "       'Break_Time'],\n",
       "      dtype='object')"
      ]
     },
     "execution_count": 22,
     "metadata": {},
     "output_type": "execute_result"
    }
   ],
   "source": [
    "dss.columns"
   ]
  },
  {
   "cell_type": "code",
   "execution_count": 23,
   "id": "4615fd0b-aef6-47ed-b323-dfd57e9027c3",
   "metadata": {},
   "outputs": [],
   "source": [
    "dss = dss.dropna(subset = ['Condition_score'])"
   ]
  },
  {
   "cell_type": "code",
   "execution_count": 24,
   "id": "f673572f-1b18-45c4-ba39-0a16c7c6cf35",
   "metadata": {
    "tags": []
   },
   "outputs": [],
   "source": [
    "nums = random.sample(range(0,16342), 3000)"
   ]
  },
  {
   "cell_type": "code",
   "execution_count": 25,
   "id": "71e047e3-37cf-4b68-8fe6-ae54a9a6b102",
   "metadata": {
    "tags": []
   },
   "outputs": [],
   "source": [
    "nums.sort()"
   ]
  },
  {
   "cell_type": "code",
   "execution_count": 26,
   "id": "832e88df-1bbc-4e5f-ae88-d6a2f4281354",
   "metadata": {
    "tags": []
   },
   "outputs": [],
   "source": [
    "dfss = dss.iloc[nums]"
   ]
  },
  {
   "cell_type": "code",
   "execution_count": 27,
   "id": "7533d43a-b352-43c5-a266-ae1401e01a31",
   "metadata": {
    "tags": []
   },
   "outputs": [],
   "source": [
    "dfss.to_csv(\"more_data_for_surv.csv\", index = False)"
   ]
  },
  {
   "cell_type": "code",
   "execution_count": 28,
   "id": "06f0880b-3e88-455e-9fb0-f80b3a89f996",
   "metadata": {
    "tags": []
   },
   "outputs": [
    {
     "data": {
      "text/html": [
       "<div>\n",
       "<style scoped>\n",
       "    .dataframe tbody tr th:only-of-type {\n",
       "        vertical-align: middle;\n",
       "    }\n",
       "\n",
       "    .dataframe tbody tr th {\n",
       "        vertical-align: top;\n",
       "    }\n",
       "\n",
       "    .dataframe thead th {\n",
       "        text-align: right;\n",
       "    }\n",
       "</style>\n",
       "<table border=\"1\" class=\"dataframe\">\n",
       "  <thead>\n",
       "    <tr style=\"text-align: right;\">\n",
       "      <th></th>\n",
       "      <th>Label</th>\n",
       "      <th>PRESSURE_ZONE</th>\n",
       "      <th>CATEGORY</th>\n",
       "      <th>PIPE_SIZE</th>\n",
       "      <th>MATERIAL</th>\n",
       "      <th>LINED</th>\n",
       "      <th>LINED_MATERIAL</th>\n",
       "      <th>ACQUISITION</th>\n",
       "      <th>OWNERSHIP</th>\n",
       "      <th>BRIDGE_MAIN</th>\n",
       "      <th>...</th>\n",
       "      <th>REL_CLEANING_SUBAREA</th>\n",
       "      <th>Undersized</th>\n",
       "      <th>shallow_main</th>\n",
       "      <th>Condition_score</th>\n",
       "      <th>OVERSIZED</th>\n",
       "      <th>CLEANED</th>\n",
       "      <th>Shape__Length</th>\n",
       "      <th>Installation_Month</th>\n",
       "      <th>Installation_Year</th>\n",
       "      <th>Break_Time</th>\n",
       "    </tr>\n",
       "  </thead>\n",
       "  <tbody>\n",
       "    <tr>\n",
       "      <th>4</th>\n",
       "      <td>0</td>\n",
       "      <td>KIT 6</td>\n",
       "      <td>TREATED</td>\n",
       "      <td>450</td>\n",
       "      <td>DI</td>\n",
       "      <td>NO</td>\n",
       "      <td>NONE</td>\n",
       "      <td>DONATED</td>\n",
       "      <td>DUAL CITY AND REGION</td>\n",
       "      <td>N</td>\n",
       "      <td>...</td>\n",
       "      <td>8</td>\n",
       "      <td>N</td>\n",
       "      <td>N</td>\n",
       "      <td>8.50</td>\n",
       "      <td>N</td>\n",
       "      <td>Y</td>\n",
       "      <td>14.956131</td>\n",
       "      <td>1</td>\n",
       "      <td>1979</td>\n",
       "      <td>45.0</td>\n",
       "    </tr>\n",
       "    <tr>\n",
       "      <th>7</th>\n",
       "      <td>0</td>\n",
       "      <td>KIT 6</td>\n",
       "      <td>TREATED</td>\n",
       "      <td>450</td>\n",
       "      <td>DI</td>\n",
       "      <td>NO</td>\n",
       "      <td>NONE</td>\n",
       "      <td>DONATED</td>\n",
       "      <td>DUAL CITY AND REGION</td>\n",
       "      <td>N</td>\n",
       "      <td>...</td>\n",
       "      <td>7</td>\n",
       "      <td>N</td>\n",
       "      <td>N</td>\n",
       "      <td>8.50</td>\n",
       "      <td>N</td>\n",
       "      <td>N</td>\n",
       "      <td>124.970065</td>\n",
       "      <td>1</td>\n",
       "      <td>1979</td>\n",
       "      <td>45.0</td>\n",
       "    </tr>\n",
       "    <tr>\n",
       "      <th>14</th>\n",
       "      <td>0</td>\n",
       "      <td>KIT 6</td>\n",
       "      <td>TREATED</td>\n",
       "      <td>200</td>\n",
       "      <td>PVC</td>\n",
       "      <td>NO</td>\n",
       "      <td>NONE</td>\n",
       "      <td>DONATED</td>\n",
       "      <td>KITCHENER</td>\n",
       "      <td>N</td>\n",
       "      <td>...</td>\n",
       "      <td>39</td>\n",
       "      <td>N</td>\n",
       "      <td>N</td>\n",
       "      <td>9.35</td>\n",
       "      <td>N</td>\n",
       "      <td>Y</td>\n",
       "      <td>69.569744</td>\n",
       "      <td>6</td>\n",
       "      <td>2006</td>\n",
       "      <td>18.0</td>\n",
       "    </tr>\n",
       "    <tr>\n",
       "      <th>17</th>\n",
       "      <td>0</td>\n",
       "      <td>KIT 5</td>\n",
       "      <td>TREATED</td>\n",
       "      <td>200</td>\n",
       "      <td>PVC</td>\n",
       "      <td>NO</td>\n",
       "      <td>NONE</td>\n",
       "      <td>DONATED</td>\n",
       "      <td>KITCHENER</td>\n",
       "      <td>N</td>\n",
       "      <td>...</td>\n",
       "      <td>24</td>\n",
       "      <td>N</td>\n",
       "      <td>N</td>\n",
       "      <td>9.35</td>\n",
       "      <td>N</td>\n",
       "      <td>Y</td>\n",
       "      <td>8.321570</td>\n",
       "      <td>1</td>\n",
       "      <td>2006</td>\n",
       "      <td>18.0</td>\n",
       "    </tr>\n",
       "    <tr>\n",
       "      <th>35</th>\n",
       "      <td>0</td>\n",
       "      <td>KIT 2W</td>\n",
       "      <td>TREATED</td>\n",
       "      <td>150</td>\n",
       "      <td>DI</td>\n",
       "      <td>NO</td>\n",
       "      <td>NONE</td>\n",
       "      <td>DONATED</td>\n",
       "      <td>KITCHENER</td>\n",
       "      <td>N</td>\n",
       "      <td>...</td>\n",
       "      <td>32</td>\n",
       "      <td>N</td>\n",
       "      <td>N</td>\n",
       "      <td>8.50</td>\n",
       "      <td>N</td>\n",
       "      <td>N</td>\n",
       "      <td>0.752107</td>\n",
       "      <td>1</td>\n",
       "      <td>1980</td>\n",
       "      <td>44.0</td>\n",
       "    </tr>\n",
       "    <tr>\n",
       "      <th>...</th>\n",
       "      <td>...</td>\n",
       "      <td>...</td>\n",
       "      <td>...</td>\n",
       "      <td>...</td>\n",
       "      <td>...</td>\n",
       "      <td>...</td>\n",
       "      <td>...</td>\n",
       "      <td>...</td>\n",
       "      <td>...</td>\n",
       "      <td>...</td>\n",
       "      <td>...</td>\n",
       "      <td>...</td>\n",
       "      <td>...</td>\n",
       "      <td>...</td>\n",
       "      <td>...</td>\n",
       "      <td>...</td>\n",
       "      <td>...</td>\n",
       "      <td>...</td>\n",
       "      <td>...</td>\n",
       "      <td>...</td>\n",
       "      <td>...</td>\n",
       "    </tr>\n",
       "    <tr>\n",
       "      <th>16868</th>\n",
       "      <td>1</td>\n",
       "      <td>KIT 4</td>\n",
       "      <td>TREATED</td>\n",
       "      <td>150</td>\n",
       "      <td>CI</td>\n",
       "      <td>NO</td>\n",
       "      <td>NONE</td>\n",
       "      <td>DONATED</td>\n",
       "      <td>KITCHENER</td>\n",
       "      <td>N</td>\n",
       "      <td>...</td>\n",
       "      <td>7</td>\n",
       "      <td>N</td>\n",
       "      <td>N</td>\n",
       "      <td>3.95</td>\n",
       "      <td>N</td>\n",
       "      <td>N</td>\n",
       "      <td>2.964207</td>\n",
       "      <td>1</td>\n",
       "      <td>1957</td>\n",
       "      <td>46.0</td>\n",
       "    </tr>\n",
       "    <tr>\n",
       "      <th>16926</th>\n",
       "      <td>0</td>\n",
       "      <td>KIT 5</td>\n",
       "      <td>TREATED</td>\n",
       "      <td>300</td>\n",
       "      <td>PVC</td>\n",
       "      <td>NO</td>\n",
       "      <td>NONE</td>\n",
       "      <td>DONATED</td>\n",
       "      <td>KITCHENER</td>\n",
       "      <td>N</td>\n",
       "      <td>...</td>\n",
       "      <td>0</td>\n",
       "      <td>N</td>\n",
       "      <td>N</td>\n",
       "      <td>9.85</td>\n",
       "      <td>N</td>\n",
       "      <td>N</td>\n",
       "      <td>16.757665</td>\n",
       "      <td>1</td>\n",
       "      <td>2019</td>\n",
       "      <td>5.0</td>\n",
       "    </tr>\n",
       "    <tr>\n",
       "      <th>16928</th>\n",
       "      <td>0</td>\n",
       "      <td>KIT 4</td>\n",
       "      <td>TREATED</td>\n",
       "      <td>450</td>\n",
       "      <td>CI</td>\n",
       "      <td>NO</td>\n",
       "      <td>NONE</td>\n",
       "      <td>PURCHASED</td>\n",
       "      <td>KITCHENER</td>\n",
       "      <td>N</td>\n",
       "      <td>...</td>\n",
       "      <td>0</td>\n",
       "      <td>N</td>\n",
       "      <td>N</td>\n",
       "      <td>7.75</td>\n",
       "      <td>N</td>\n",
       "      <td>N</td>\n",
       "      <td>15.611054</td>\n",
       "      <td>1</td>\n",
       "      <td>1961</td>\n",
       "      <td>63.0</td>\n",
       "    </tr>\n",
       "    <tr>\n",
       "      <th>16930</th>\n",
       "      <td>0</td>\n",
       "      <td>KIT 4</td>\n",
       "      <td>TREATED</td>\n",
       "      <td>300</td>\n",
       "      <td>CI</td>\n",
       "      <td>NO</td>\n",
       "      <td>NONE</td>\n",
       "      <td>PURCHASED</td>\n",
       "      <td>KITCHENER</td>\n",
       "      <td>N</td>\n",
       "      <td>...</td>\n",
       "      <td>29</td>\n",
       "      <td>N</td>\n",
       "      <td>N</td>\n",
       "      <td>7.75</td>\n",
       "      <td>N</td>\n",
       "      <td>N</td>\n",
       "      <td>1.831055</td>\n",
       "      <td>1</td>\n",
       "      <td>1961</td>\n",
       "      <td>63.0</td>\n",
       "    </tr>\n",
       "    <tr>\n",
       "      <th>16954</th>\n",
       "      <td>0</td>\n",
       "      <td>KIT 4</td>\n",
       "      <td>TREATED</td>\n",
       "      <td>150</td>\n",
       "      <td>CI</td>\n",
       "      <td>NO</td>\n",
       "      <td>NONE</td>\n",
       "      <td>DONATED</td>\n",
       "      <td>KITCHENER</td>\n",
       "      <td>N</td>\n",
       "      <td>...</td>\n",
       "      <td>7</td>\n",
       "      <td>N</td>\n",
       "      <td>N</td>\n",
       "      <td>7.75</td>\n",
       "      <td>N</td>\n",
       "      <td>N</td>\n",
       "      <td>22.857188</td>\n",
       "      <td>3</td>\n",
       "      <td>1994</td>\n",
       "      <td>30.0</td>\n",
       "    </tr>\n",
       "  </tbody>\n",
       "</table>\n",
       "<p>3000 rows × 22 columns</p>\n",
       "</div>"
      ],
      "text/plain": [
       "       Label PRESSURE_ZONE CATEGORY  PIPE_SIZE MATERIAL LINED LINED_MATERIAL  \\\n",
       "4          0         KIT 6  TREATED        450       DI    NO           NONE   \n",
       "7          0         KIT 6  TREATED        450       DI    NO           NONE   \n",
       "14         0         KIT 6  TREATED        200      PVC    NO           NONE   \n",
       "17         0         KIT 5  TREATED        200      PVC    NO           NONE   \n",
       "35         0        KIT 2W  TREATED        150       DI    NO           NONE   \n",
       "...      ...           ...      ...        ...      ...   ...            ...   \n",
       "16868      1         KIT 4  TREATED        150       CI    NO           NONE   \n",
       "16926      0         KIT 5  TREATED        300      PVC    NO           NONE   \n",
       "16928      0         KIT 4  TREATED        450       CI    NO           NONE   \n",
       "16930      0         KIT 4  TREATED        300       CI    NO           NONE   \n",
       "16954      0         KIT 4  TREATED        150       CI    NO           NONE   \n",
       "\n",
       "      ACQUISITION             OWNERSHIP BRIDGE_MAIN  ...  \\\n",
       "4         DONATED  DUAL CITY AND REGION           N  ...   \n",
       "7         DONATED  DUAL CITY AND REGION           N  ...   \n",
       "14        DONATED             KITCHENER           N  ...   \n",
       "17        DONATED             KITCHENER           N  ...   \n",
       "35        DONATED             KITCHENER           N  ...   \n",
       "...           ...                   ...         ...  ...   \n",
       "16868     DONATED             KITCHENER           N  ...   \n",
       "16926     DONATED             KITCHENER           N  ...   \n",
       "16928   PURCHASED             KITCHENER           N  ...   \n",
       "16930   PURCHASED             KITCHENER           N  ...   \n",
       "16954     DONATED             KITCHENER           N  ...   \n",
       "\n",
       "       REL_CLEANING_SUBAREA  Undersized shallow_main Condition_score  \\\n",
       "4                         8           N            N            8.50   \n",
       "7                         7           N            N            8.50   \n",
       "14                       39           N            N            9.35   \n",
       "17                       24           N            N            9.35   \n",
       "35                       32           N            N            8.50   \n",
       "...                     ...         ...          ...             ...   \n",
       "16868                     7           N            N            3.95   \n",
       "16926                     0           N            N            9.85   \n",
       "16928                     0           N            N            7.75   \n",
       "16930                    29           N            N            7.75   \n",
       "16954                     7           N            N            7.75   \n",
       "\n",
       "      OVERSIZED  CLEANED Shape__Length Installation_Month  Installation_Year  \\\n",
       "4             N        Y     14.956131                  1               1979   \n",
       "7             N        N    124.970065                  1               1979   \n",
       "14            N        Y     69.569744                  6               2006   \n",
       "17            N        Y      8.321570                  1               2006   \n",
       "35            N        N      0.752107                  1               1980   \n",
       "...         ...      ...           ...                ...                ...   \n",
       "16868         N        N      2.964207                  1               1957   \n",
       "16926         N        N     16.757665                  1               2019   \n",
       "16928         N        N     15.611054                  1               1961   \n",
       "16930         N        N      1.831055                  1               1961   \n",
       "16954         N        N     22.857188                  3               1994   \n",
       "\n",
       "       Break_Time  \n",
       "4            45.0  \n",
       "7            45.0  \n",
       "14           18.0  \n",
       "17           18.0  \n",
       "35           44.0  \n",
       "...           ...  \n",
       "16868        46.0  \n",
       "16926         5.0  \n",
       "16928        63.0  \n",
       "16930        63.0  \n",
       "16954        30.0  \n",
       "\n",
       "[3000 rows x 22 columns]"
      ]
     },
     "execution_count": 28,
     "metadata": {},
     "output_type": "execute_result"
    }
   ],
   "source": [
    "dfss"
   ]
  },
  {
   "cell_type": "code",
   "execution_count": 29,
   "id": "e258f1a2-5f06-4e39-b5d2-bf3481fda2d7",
   "metadata": {
    "tags": []
   },
   "outputs": [],
   "source": [
    "ml_data_cols = ['PRESSURE_ZONE', 'PIPE_SIZE', 'Shape__Length', 'Installation_Year', 'Break_Time',\n",
    "                'Label', 'Condition_score', 'MATERIAL']\n",
    "sa_data_cols = ['PRESSURE_ZONE', 'PIPE_SIZE', 'Shape__Length', 'Installation_Year', 'Break_Time',\n",
    "                'Label', 'Condition_score', 'MATERIAL']\n",
    "# sa_data_cols = ['PRESSURE_ZONE', 'PIPE_SIZE', 'Shape__Length', 'Break_Time', 'Label', 'MATERIAL']\n",
    "ml_data = dfss[ml_data_cols]\n",
    "sa_data = dfss[sa_data_cols]\n",
    "ml_data = ml_data.reset_index(drop = True)\n",
    "sa_data = sa_data.reset_index(drop = True)"
   ]
  },
  {
   "cell_type": "markdown",
   "id": "83724a96-6ded-4f0d-ba5a-f17b12c274a4",
   "metadata": {},
   "source": [
    "# Machine Learning"
   ]
  },
  {
   "cell_type": "code",
   "execution_count": 30,
   "id": "56f14d11-ce44-494c-b522-34fa79bae7d7",
   "metadata": {
    "tags": []
   },
   "outputs": [],
   "source": [
    "ml_data['Age'] = ml_data['Installation_Year'].apply(lambda x: 2024 - x)\n",
    "ml_data = ml_data.drop(['Installation_Year'], axis = 1)"
   ]
  },
  {
   "cell_type": "code",
   "execution_count": 31,
   "id": "397dd715-6b3c-417b-8b6d-a2818875f340",
   "metadata": {
    "tags": []
   },
   "outputs": [],
   "source": [
    "ml_data = ml_data.loc[ml_data['Age'] > 0]"
   ]
  },
  {
   "cell_type": "code",
   "execution_count": 32,
   "id": "1dd92d5b-cd76-4aad-bedd-60d75edad265",
   "metadata": {
    "tags": []
   },
   "outputs": [
    {
     "data": {
      "text/html": [
       "<div>\n",
       "<style scoped>\n",
       "    .dataframe tbody tr th:only-of-type {\n",
       "        vertical-align: middle;\n",
       "    }\n",
       "\n",
       "    .dataframe tbody tr th {\n",
       "        vertical-align: top;\n",
       "    }\n",
       "\n",
       "    .dataframe thead th {\n",
       "        text-align: right;\n",
       "    }\n",
       "</style>\n",
       "<table border=\"1\" class=\"dataframe\">\n",
       "  <thead>\n",
       "    <tr style=\"text-align: right;\">\n",
       "      <th></th>\n",
       "      <th>PRESSURE_ZONE</th>\n",
       "      <th>PIPE_SIZE</th>\n",
       "      <th>Shape__Length</th>\n",
       "      <th>Break_Time</th>\n",
       "      <th>Label</th>\n",
       "      <th>Condition_score</th>\n",
       "      <th>MATERIAL</th>\n",
       "      <th>Age</th>\n",
       "    </tr>\n",
       "  </thead>\n",
       "  <tbody>\n",
       "    <tr>\n",
       "      <th>0</th>\n",
       "      <td>KIT 6</td>\n",
       "      <td>450</td>\n",
       "      <td>14.956131</td>\n",
       "      <td>45.0</td>\n",
       "      <td>0</td>\n",
       "      <td>8.50</td>\n",
       "      <td>DI</td>\n",
       "      <td>45</td>\n",
       "    </tr>\n",
       "    <tr>\n",
       "      <th>1</th>\n",
       "      <td>KIT 6</td>\n",
       "      <td>450</td>\n",
       "      <td>124.970065</td>\n",
       "      <td>45.0</td>\n",
       "      <td>0</td>\n",
       "      <td>8.50</td>\n",
       "      <td>DI</td>\n",
       "      <td>45</td>\n",
       "    </tr>\n",
       "    <tr>\n",
       "      <th>2</th>\n",
       "      <td>KIT 6</td>\n",
       "      <td>200</td>\n",
       "      <td>69.569744</td>\n",
       "      <td>18.0</td>\n",
       "      <td>0</td>\n",
       "      <td>9.35</td>\n",
       "      <td>PVC</td>\n",
       "      <td>18</td>\n",
       "    </tr>\n",
       "    <tr>\n",
       "      <th>3</th>\n",
       "      <td>KIT 5</td>\n",
       "      <td>200</td>\n",
       "      <td>8.321570</td>\n",
       "      <td>18.0</td>\n",
       "      <td>0</td>\n",
       "      <td>9.35</td>\n",
       "      <td>PVC</td>\n",
       "      <td>18</td>\n",
       "    </tr>\n",
       "    <tr>\n",
       "      <th>4</th>\n",
       "      <td>KIT 2W</td>\n",
       "      <td>150</td>\n",
       "      <td>0.752107</td>\n",
       "      <td>44.0</td>\n",
       "      <td>0</td>\n",
       "      <td>8.50</td>\n",
       "      <td>DI</td>\n",
       "      <td>44</td>\n",
       "    </tr>\n",
       "    <tr>\n",
       "      <th>...</th>\n",
       "      <td>...</td>\n",
       "      <td>...</td>\n",
       "      <td>...</td>\n",
       "      <td>...</td>\n",
       "      <td>...</td>\n",
       "      <td>...</td>\n",
       "      <td>...</td>\n",
       "      <td>...</td>\n",
       "    </tr>\n",
       "    <tr>\n",
       "      <th>2995</th>\n",
       "      <td>KIT 4</td>\n",
       "      <td>150</td>\n",
       "      <td>2.964207</td>\n",
       "      <td>46.0</td>\n",
       "      <td>1</td>\n",
       "      <td>3.95</td>\n",
       "      <td>CI</td>\n",
       "      <td>67</td>\n",
       "    </tr>\n",
       "    <tr>\n",
       "      <th>2996</th>\n",
       "      <td>KIT 5</td>\n",
       "      <td>300</td>\n",
       "      <td>16.757665</td>\n",
       "      <td>5.0</td>\n",
       "      <td>0</td>\n",
       "      <td>9.85</td>\n",
       "      <td>PVC</td>\n",
       "      <td>5</td>\n",
       "    </tr>\n",
       "    <tr>\n",
       "      <th>2997</th>\n",
       "      <td>KIT 4</td>\n",
       "      <td>450</td>\n",
       "      <td>15.611054</td>\n",
       "      <td>63.0</td>\n",
       "      <td>0</td>\n",
       "      <td>7.75</td>\n",
       "      <td>CI</td>\n",
       "      <td>63</td>\n",
       "    </tr>\n",
       "    <tr>\n",
       "      <th>2998</th>\n",
       "      <td>KIT 4</td>\n",
       "      <td>300</td>\n",
       "      <td>1.831055</td>\n",
       "      <td>63.0</td>\n",
       "      <td>0</td>\n",
       "      <td>7.75</td>\n",
       "      <td>CI</td>\n",
       "      <td>63</td>\n",
       "    </tr>\n",
       "    <tr>\n",
       "      <th>2999</th>\n",
       "      <td>KIT 4</td>\n",
       "      <td>150</td>\n",
       "      <td>22.857188</td>\n",
       "      <td>30.0</td>\n",
       "      <td>0</td>\n",
       "      <td>7.75</td>\n",
       "      <td>CI</td>\n",
       "      <td>30</td>\n",
       "    </tr>\n",
       "  </tbody>\n",
       "</table>\n",
       "<p>3000 rows × 8 columns</p>\n",
       "</div>"
      ],
      "text/plain": [
       "     PRESSURE_ZONE  PIPE_SIZE  Shape__Length  Break_Time  Label  \\\n",
       "0            KIT 6        450      14.956131        45.0      0   \n",
       "1            KIT 6        450     124.970065        45.0      0   \n",
       "2            KIT 6        200      69.569744        18.0      0   \n",
       "3            KIT 5        200       8.321570        18.0      0   \n",
       "4           KIT 2W        150       0.752107        44.0      0   \n",
       "...            ...        ...            ...         ...    ...   \n",
       "2995         KIT 4        150       2.964207        46.0      1   \n",
       "2996         KIT 5        300      16.757665         5.0      0   \n",
       "2997         KIT 4        450      15.611054        63.0      0   \n",
       "2998         KIT 4        300       1.831055        63.0      0   \n",
       "2999         KIT 4        150      22.857188        30.0      0   \n",
       "\n",
       "      Condition_score MATERIAL  Age  \n",
       "0                8.50       DI   45  \n",
       "1                8.50       DI   45  \n",
       "2                9.35      PVC   18  \n",
       "3                9.35      PVC   18  \n",
       "4                8.50       DI   44  \n",
       "...               ...      ...  ...  \n",
       "2995             3.95       CI   67  \n",
       "2996             9.85      PVC    5  \n",
       "2997             7.75       CI   63  \n",
       "2998             7.75       CI   63  \n",
       "2999             7.75       CI   30  \n",
       "\n",
       "[3000 rows x 8 columns]"
      ]
     },
     "execution_count": 32,
     "metadata": {},
     "output_type": "execute_result"
    }
   ],
   "source": [
    "ml_data"
   ]
  },
  {
   "cell_type": "code",
   "execution_count": 33,
   "id": "57f9bc84-b995-4dc9-83c8-9d668d1a0a58",
   "metadata": {
    "tags": []
   },
   "outputs": [],
   "source": [
    "ml_data.rename(columns = {'PIPE_SIZE':'PIPE_DIAMETER','Shape__Length':'PIPE_LENGTH'}, inplace = True)"
   ]
  },
  {
   "cell_type": "markdown",
   "id": "72d652e0-a059-442c-9fa8-23fe58c40648",
   "metadata": {},
   "source": [
    "One-hot encoding"
   ]
  },
  {
   "cell_type": "code",
   "execution_count": 34,
   "id": "a14fbdc9-dbd6-4367-a38a-4fe1eb9f6fe0",
   "metadata": {
    "tags": []
   },
   "outputs": [],
   "source": [
    "ml_data = pd.get_dummies(ml_data, columns=['PRESSURE_ZONE','MATERIAL'])"
   ]
  },
  {
   "cell_type": "markdown",
   "id": "914c1cf8-6c42-4720-b0b8-166f3ce738e1",
   "metadata": {},
   "source": [
    "Normalizing"
   ]
  },
  {
   "cell_type": "code",
   "execution_count": 35,
   "id": "880e2560-1d7c-4610-ad5f-1b4632a07914",
   "metadata": {
    "tags": []
   },
   "outputs": [],
   "source": [
    "sc = StandardScaler()\n",
    "sc.fit(ml_data[['PIPE_LENGTH','PIPE_DIAMETER','Age']])\n",
    "ml_data[['PIPE_LENGTH','PIPE_DIAMETER','Age']] = sc.transform(ml_data[['PIPE_LENGTH','PIPE_DIAMETER','Age']])"
   ]
  },
  {
   "cell_type": "markdown",
   "id": "38bd2951-9fd9-4e62-b532-965ef8186ba6",
   "metadata": {},
   "source": [
    "Train-test split"
   ]
  },
  {
   "cell_type": "code",
   "execution_count": 36,
   "id": "b2f9f4a3-3ae7-4e8d-b7d4-9f87107e44ae",
   "metadata": {
    "tags": []
   },
   "outputs": [],
   "source": [
    "test = ml_data.sample(frac = 0.2)\n",
    "train = ml_data.drop(test.index)"
   ]
  },
  {
   "cell_type": "code",
   "execution_count": 37,
   "id": "73f16b65-72a4-48d7-84a7-ff4a48f8fc8b",
   "metadata": {
    "tags": []
   },
   "outputs": [
    {
     "data": {
      "text/plain": [
       "(2400, 29)"
      ]
     },
     "execution_count": 37,
     "metadata": {},
     "output_type": "execute_result"
    }
   ],
   "source": [
    "train.shape"
   ]
  },
  {
   "cell_type": "code",
   "execution_count": 38,
   "id": "cce80e5b-009b-448c-ba5b-1c4fc6c2b750",
   "metadata": {
    "tags": []
   },
   "outputs": [
    {
     "data": {
      "text/plain": [
       "(600, 29)"
      ]
     },
     "execution_count": 38,
     "metadata": {},
     "output_type": "execute_result"
    }
   ],
   "source": [
    "test.shape"
   ]
  },
  {
   "cell_type": "markdown",
   "id": "61b926b3-40c8-43c9-80b2-638aefca0d02",
   "metadata": {},
   "source": [
    "Cross-validation for model selection"
   ]
  },
  {
   "cell_type": "code",
   "execution_count": 39,
   "id": "01a67ed6-10df-4fc0-986d-c083d8177d68",
   "metadata": {
    "tags": []
   },
   "outputs": [],
   "source": [
    "x = train.drop(['Condition_score', 'Label', 'Break_Time'], axis = 1)\n",
    "y = train['Condition_score']"
   ]
  },
  {
   "cell_type": "code",
   "execution_count": 40,
   "id": "34bed740-e4ad-4f4e-9619-cfded5302326",
   "metadata": {
    "tags": []
   },
   "outputs": [
    {
     "name": "stderr",
     "output_type": "stream",
     "text": [
      "C:\\Users\\asus_\\AppData\\Local\\Programs\\Python\\Python311\\Lib\\site-packages\\sklearn\\svm\\_classes.py:32: FutureWarning: The default value of `dual` will change from `True` to `'auto'` in 1.5. Set the value of `dual` explicitly to suppress the warning.\n",
      "  warnings.warn(\n",
      "C:\\Users\\asus_\\AppData\\Local\\Programs\\Python\\Python311\\Lib\\site-packages\\sklearn\\svm\\_classes.py:32: FutureWarning: The default value of `dual` will change from `True` to `'auto'` in 1.5. Set the value of `dual` explicitly to suppress the warning.\n",
      "  warnings.warn(\n",
      "C:\\Users\\asus_\\AppData\\Local\\Programs\\Python\\Python311\\Lib\\site-packages\\sklearn\\svm\\_classes.py:32: FutureWarning: The default value of `dual` will change from `True` to `'auto'` in 1.5. Set the value of `dual` explicitly to suppress the warning.\n",
      "  warnings.warn(\n",
      "C:\\Users\\asus_\\AppData\\Local\\Programs\\Python\\Python311\\Lib\\site-packages\\sklearn\\svm\\_classes.py:32: FutureWarning: The default value of `dual` will change from `True` to `'auto'` in 1.5. Set the value of `dual` explicitly to suppress the warning.\n",
      "  warnings.warn(\n",
      "C:\\Users\\asus_\\AppData\\Local\\Programs\\Python\\Python311\\Lib\\site-packages\\sklearn\\svm\\_classes.py:32: FutureWarning: The default value of `dual` will change from `True` to `'auto'` in 1.5. Set the value of `dual` explicitly to suppress the warning.\n",
      "  warnings.warn(\n",
      "C:\\Users\\asus_\\AppData\\Local\\Programs\\Python\\Python311\\Lib\\site-packages\\sklearn\\svm\\_classes.py:32: FutureWarning: The default value of `dual` will change from `True` to `'auto'` in 1.5. Set the value of `dual` explicitly to suppress the warning.\n",
      "  warnings.warn(\n",
      "C:\\Users\\asus_\\AppData\\Local\\Programs\\Python\\Python311\\Lib\\site-packages\\sklearn\\svm\\_classes.py:32: FutureWarning: The default value of `dual` will change from `True` to `'auto'` in 1.5. Set the value of `dual` explicitly to suppress the warning.\n",
      "  warnings.warn(\n",
      "C:\\Users\\asus_\\AppData\\Local\\Programs\\Python\\Python311\\Lib\\site-packages\\sklearn\\svm\\_classes.py:32: FutureWarning: The default value of `dual` will change from `True` to `'auto'` in 1.5. Set the value of `dual` explicitly to suppress the warning.\n",
      "  warnings.warn(\n",
      "C:\\Users\\asus_\\AppData\\Local\\Programs\\Python\\Python311\\Lib\\site-packages\\sklearn\\svm\\_classes.py:32: FutureWarning: The default value of `dual` will change from `True` to `'auto'` in 1.5. Set the value of `dual` explicitly to suppress the warning.\n",
      "  warnings.warn(\n",
      "C:\\Users\\asus_\\AppData\\Local\\Programs\\Python\\Python311\\Lib\\site-packages\\sklearn\\svm\\_classes.py:32: FutureWarning: The default value of `dual` will change from `True` to `'auto'` in 1.5. Set the value of `dual` explicitly to suppress the warning.\n",
      "  warnings.warn(\n"
     ]
    },
    {
     "name": "stdout",
     "output_type": "stream",
     "text": [
      "Variable name using locals(): variable\n",
      "None = 0.5941642610058868\n",
      "Variable name using locals(): variable\n",
      "None = 0.5134018243614342\n",
      "Variable name using locals(): variable\n",
      "None = 1.0087562770061727\n",
      "Variable name using locals(): variable\n",
      "None = 0.5948608949041422\n",
      "Variable name using locals(): variable\n",
      "None = 0.6284274904588039\n",
      "Variable name using locals(): variable\n",
      "None = 0.4237870000000015\n",
      "Variable name using locals(): variable\n",
      "None = 0.42254249999999993\n",
      "Variable name using locals(): variable\n",
      "None = 0.4610694886684418\n",
      "Variable name using locals(): variable\n",
      "None = 0.4418006631758959\n"
     ]
    }
   ],
   "source": [
    "linreg = LinearRegression()\n",
    "svrm = LinearSVR()\n",
    "lass = Lasso()\n",
    "rid = Ridge()\n",
    "sgd = SGDRegressor()\n",
    "rf = RandomForestRegressor()\n",
    "knns = KNeighborsRegressor()\n",
    "xgbs = xgb.XGBRegressor()\n",
    "lgbs = lgb.LGBMRegressor()\n",
    "lin_scores = cross_val_score(linreg, x, y, scoring = 'neg_mean_absolute_error', cv = 10)\n",
    "svr_scores = cross_val_score(svrm, x, y, scoring = 'neg_mean_absolute_error', cv = 10)\n",
    "lasso_scores = cross_val_score(lass, x, y, scoring = 'neg_mean_absolute_error', cv = 10)\n",
    "ridge_scores = cross_val_score(rid, x, y, scoring = 'neg_mean_absolute_error', cv = 10)\n",
    "sgd_scores = cross_val_score(sgd, x, y, scoring = 'neg_mean_absolute_error', cv = 10)\n",
    "rf_scores = cross_val_score(rf, x, y, scoring = 'neg_mean_absolute_error', cv = 10)\n",
    "knn_scores = cross_val_score(knns, x, y, scoring = 'neg_mean_absolute_error', cv = 10)\n",
    "xgb_scores = cross_val_score(xgbs, x, y, scoring = 'neg_mean_absolute_error', cv = 10)\n",
    "lgb_scores = cross_val_score(lgbs, x, y, scoring = 'neg_mean_absolute_error', cv = 10)\n",
    "\n",
    "\n",
    "scores = [lin_scores,\n",
    "svr_scores,\n",
    "lasso_scores,\n",
    "ridge_scores,\n",
    "sgd_scores,\n",
    "rf_scores,\n",
    "knn_scores,\n",
    "xgb_scores,\n",
    "lgb_scores\n",
    "]\n",
    "\n",
    "\n",
    "def print_variable(variable):\n",
    "    variable_name = [name for name, value in locals().items() if value is variable][0]\n",
    "    print(f\"Variable name using locals(): {variable_name}\")\n",
    "\n",
    "for sc in scores:\n",
    "    print(f\"{print_variable(sc)} = {sc.mean()*(-1)}\")"
   ]
  },
  {
   "cell_type": "markdown",
   "id": "15a6ff07-0865-4e40-8060-fca879fe47fe",
   "metadata": {},
   "source": [
    "Prediction"
   ]
  },
  {
   "cell_type": "code",
   "execution_count": 41,
   "id": "f4e02d65-0288-4afd-a994-b0f6253302dd",
   "metadata": {
    "tags": []
   },
   "outputs": [],
   "source": [
    "# Best performing models\n",
    "\n",
    "rf = RandomForestRegressor\n",
    "knns = KNeighborsRegressor\n",
    "xgbs = xgb.XGBRegressor\n",
    "lgbs = lgb.LGBMRegressor\n",
    "\n",
    "xtest = test.drop(['Condition_score', 'Label', 'Break_Time'], axis = 1)\n",
    "ytest = test['Condition_score']\n",
    "\n",
    "models = [rf,knns,xgbs,lgbs]\n",
    "evals = {}\n",
    "for model in models:\n",
    "    m = model()\n",
    "    m.fit(x,y)\n",
    "    preds = m.predict(xtest)\n",
    "    evals[model.__name__] = [mean_absolute_error(ytest,preds),mean_squared_error(ytest,preds), r2_score(ytest,preds)]"
   ]
  },
  {
   "cell_type": "code",
   "execution_count": 42,
   "id": "071a4fe9-a111-4b61-94da-707243acbe18",
   "metadata": {
    "tags": []
   },
   "outputs": [
    {
     "data": {
      "text/plain": [
       "{'RandomForestRegressor': [0.3274531666666676,\n",
       "  0.5652202756166664,\n",
       "  0.703720607115417],\n",
       " 'KNeighborsRegressor': [0.34328, 0.5972426266666666, 0.6869350048694962],\n",
       " 'XGBRegressor': [0.37995619029998773, 0.6758351748570888, 0.6457380530480037],\n",
       " 'LGBMRegressor': [0.3762753721516402, 0.5634174885346179, 0.7046655991569477]}"
      ]
     },
     "execution_count": 42,
     "metadata": {},
     "output_type": "execute_result"
    }
   ],
   "source": [
    "evals"
   ]
  },
  {
   "cell_type": "markdown",
   "id": "e9268fcd-3c0c-4f8b-bd69-ebd6d477a97b",
   "metadata": {},
   "source": [
    "Plotting"
   ]
  },
  {
   "cell_type": "code",
   "execution_count": 43,
   "id": "3506ed80-0828-4416-b0d9-f96d2f8faedb",
   "metadata": {
    "tags": []
   },
   "outputs": [],
   "source": [
    "models = list(evals.keys())\n",
    "mae_scores = [evals[model][0] for model in models]\n",
    "mse_scores = [evals[model][1] for model in models]\n",
    "r2_scores = [evals[model][2] for model in models]"
   ]
  },
  {
   "cell_type": "code",
   "execution_count": 44,
   "id": "ac2c4ce1-5e3d-4edf-b964-fcab0107f9f0",
   "metadata": {
    "tags": []
   },
   "outputs": [
    {
     "data": {
      "image/png": "[encoded data removed]",
      "text/plain": [
       "<Figure size 1000x600 with 2 Axes>"
      ]
     },
     "metadata": {},
     "output_type": "display_data"
    }
   ],
   "source": [
    "x = np.arange(len(models))  # the label locations\n",
    "width = 0.35  # the width of the bars\n",
    "\n",
    "fig, ax1 = plt.subplots(figsize=(10, 6))\n",
    "\n",
    "# Plotting MAE scores\n",
    "bar1 = ax1.bar(x - width/2, mae_scores, width, label='MAE', color='green')\n",
    "\n",
    "# Instantiate a second y-axis that shares the same x-axis\n",
    "ax2 = ax1.twinx()  \n",
    "\n",
    "# Plotting MSE scores\n",
    "bar2 = ax2.bar(x + width/2, mse_scores, width, label='MSE', color='blue')\n",
    "\n",
    "# Adding some text for labels, title and custom x-axis tick labels, etc.\n",
    "ax1.set_xlabel('Models')\n",
    "ax1.set_ylabel('MAE', color='green')\n",
    "ax2.set_ylabel('MSE', color='blue')\n",
    "ax1.set_title('Model Performance: MAE, MSE, and R2 Scores')\n",
    "ax1.set_xticks(x)\n",
    "ax1.set_xticklabels(models)\n",
    "ax1.legend(loc='upper left')\n",
    "ax2.legend(loc='upper right')\n",
    "\n",
    "# # Annotating R2 scores\n",
    "# for i in range(len(models)):\n",
    "#     ax1.annotate(f'R2: {r2_scores[i]:.2f}', \n",
    "#                  xy=(x[i], max(mae_scores[i], mse_scores[i]) + 0.02), \n",
    "#                  ha='center', fontsize=50, fontweight='bold', color='black')\n",
    "\n",
    "fig.tight_layout()  # to ensure the right y-label is not slightly clipped\n",
    "plt.savefig(\"model_graphs.png\")\n",
    "plt.show()\n"
   ]
  },
  {
   "cell_type": "markdown",
   "id": "b15f480f-c95d-45ac-b486-6f52c6844f69",
   "metadata": {},
   "source": [
    "Feature importance"
   ]
  },
  {
   "cell_type": "code",
   "execution_count": 45,
   "id": "7eb44572-357e-4997-b97e-98a1d9ac0224",
   "metadata": {
    "tags": []
   },
   "outputs": [
    {
     "data": {
      "text/plain": [
       "<AxesSubplot: >"
      ]
     },
     "execution_count": 45,
     "metadata": {},
     "output_type": "execute_result"
    },
    {
     "data": {
      "image/png": "[encoded data removed]",
      "text/plain": [
       "<Figure size 2000x1000 with 1 Axes>"
      ]
     },
     "metadata": {},
     "output_type": "display_data"
    }
   ],
   "source": [
    "\n",
    "# plot feature importance manually\n",
    "from numpy import loadtxt\n",
    "from xgboost import XGBRegressor\n",
    "from matplotlib import pyplot\n",
    "x = ml_data.drop(['Condition_score', 'Label', 'Break_Time'], axis = 1)\n",
    "y = ml_data['Condition_score']\n",
    "fea_model = XGBRegressor()\n",
    "fea_model.fit(x, y)\n",
    "\n",
    "feature_important = fea_model.get_booster().get_score(importance_type='weight')\n",
    "keys = list(feature_important.keys())\n",
    "values = list(feature_important.values())\n",
    "\n",
    "data = pd.DataFrame(data=values, index=keys, columns=[\"score\"]).sort_values(by = \"score\", ascending=False)\n",
    "data.nlargest(3, columns=\"score\").plot(kind='barh', figsize = (20,10)) ## plot top 40 features"
   ]
  },
  {
   "cell_type": "code",
   "execution_count": 46,
   "id": "96d61caf-7ed9-4335-8977-b5cb18c29967",
   "metadata": {
    "tags": []
   },
   "outputs": [
    {
     "data": {
      "image/png": "[encoded data removed]",
      "text/plain": [
       "<Figure size 800x400 with 1 Axes>"
      ]
     },
     "metadata": {},
     "output_type": "display_data"
    }
   ],
   "source": [
    "# Get feature importance scores and feature names\n",
    "feature_importance = fea_model.get_booster().get_score(importance_type='weight')\n",
    "keys = list(feature_importance.keys())\n",
    "values = list(feature_importance.values())\n",
    "\n",
    "# Create a DataFrame for better visualization\n",
    "importance_df = pd.DataFrame(data={'Feature': keys, 'Importance': values})\n",
    "\n",
    "# Sort the DataFrame by importance\n",
    "importance_df = importance_df.sort_values(by='Importance', ascending=False).head(3)\n",
    "\n",
    "# Plot\n",
    "plt.figure(figsize=(8, 4))\n",
    "plt.barh(importance_df['Feature'], importance_df['Importance'], color='skyblue')\n",
    "plt.xlabel('Feature Importance')\n",
    "plt.ylabel('Features')\n",
    "plt.title('XGBoost Feature Importance')\n",
    "plt.gca().invert_yaxis()\n",
    "plt.savefig(\"feat_imp.png\")\n",
    "plt.show()"
   ]
  },
  {
   "cell_type": "markdown",
   "id": "22962b6f-5170-4b44-a4ca-400d765ce7db",
   "metadata": {},
   "source": [
    "### Filtering of pipes"
   ]
  },
  {
   "cell_type": "code",
   "execution_count": 47,
   "id": "85f166db-219b-4eaa-ac7f-9cd43301873d",
   "metadata": {
    "tags": []
   },
   "outputs": [
    {
     "data": {
      "text/plain": [
       "['ML_Model.pkl']"
      ]
     },
     "execution_count": 47,
     "metadata": {},
     "output_type": "execute_result"
    }
   ],
   "source": [
    "import joblib\n",
    "# The best performing model was Random Forest. So, will use that to predict the condition\n",
    "\n",
    "rfmodel = RandomForestRegressor()\n",
    "\n",
    "xtest = test.drop(['Condition_score', 'Label', 'Break_Time'], axis = 1)\n",
    "ytest = test['Condition_score']\n",
    "\n",
    "rfmodel.fit(x,y)\n",
    "preds = rfmodel.predict(xtest)\n",
    "joblib.dump(rfmodel,\"ML_Model.pkl\")"
   ]
  },
  {
   "cell_type": "code",
   "execution_count": 48,
   "id": "4c87a482-4cb7-4483-853c-bbd5ab258271",
   "metadata": {
    "tags": []
   },
   "outputs": [],
   "source": [
    "predlist = list(preds)"
   ]
  },
  {
   "cell_type": "code",
   "execution_count": 49,
   "id": "bac762fe-4a0f-4da7-b531-bd3bc1b19077",
   "metadata": {
    "tags": []
   },
   "outputs": [],
   "source": [
    "# Combine predictions with the 'Break' column from the test set\n",
    "result_df = xtest.copy()\n",
    "result_df['Predicted condition'] = predlist\n",
    "result_df['Label'] = test.loc[xtest.index, 'Label']"
   ]
  },
  {
   "cell_type": "code",
   "execution_count": 50,
   "id": "2d99e725-dc38-4534-84e9-52fa99f48824",
   "metadata": {},
   "outputs": [
    {
     "data": {
      "text/plain": [
       "8.549589999999998"
      ]
     },
     "execution_count": 50,
     "metadata": {},
     "output_type": "execute_result"
    }
   ],
   "source": [
    "ml_data['Condition_score'].mean()"
   ]
  },
  {
   "cell_type": "code",
   "execution_count": 51,
   "id": "0c64c611-7485-4b20-b6aa-b87b4fe13f3a",
   "metadata": {
    "tags": []
   },
   "outputs": [],
   "source": [
    "# According to our dataset, the mean of of the condition score column is 8.5. Hence, we will filter out those pipes that are prone.\n",
    "\n",
    "risk_pipes = result_df.loc[result_df['Predicted condition'] < 8.5]"
   ]
  },
  {
   "cell_type": "code",
   "execution_count": 52,
   "id": "c9ad477a-2922-48cc-8225-18d87a9a8e71",
   "metadata": {
    "tags": []
   },
   "outputs": [
    {
     "data": {
      "text/plain": [
       "0    103\n",
       "1     80\n",
       "Name: Label, dtype: int64"
      ]
     },
     "execution_count": 52,
     "metadata": {},
     "output_type": "execute_result"
    }
   ],
   "source": [
    "risk_pipes['Label'].value_counts()"
   ]
  },
  {
   "cell_type": "markdown",
   "id": "f8f8f07a-7f41-4b68-8577-60d59376bcbe",
   "metadata": {},
   "source": [
    "# Survival Analysis"
   ]
  },
  {
   "cell_type": "code",
   "execution_count": 53,
   "id": "444dff56-74f3-4543-98f2-f9374fbb2e0a",
   "metadata": {
    "tags": []
   },
   "outputs": [
    {
     "data": {
      "text/html": [
       "<div>\n",
       "<style scoped>\n",
       "    .dataframe tbody tr th:only-of-type {\n",
       "        vertical-align: middle;\n",
       "    }\n",
       "\n",
       "    .dataframe tbody tr th {\n",
       "        vertical-align: top;\n",
       "    }\n",
       "\n",
       "    .dataframe thead th {\n",
       "        text-align: right;\n",
       "    }\n",
       "</style>\n",
       "<table border=\"1\" class=\"dataframe\">\n",
       "  <thead>\n",
       "    <tr style=\"text-align: right;\">\n",
       "      <th></th>\n",
       "      <th>PRESSURE_ZONE</th>\n",
       "      <th>PIPE_SIZE</th>\n",
       "      <th>Shape__Length</th>\n",
       "      <th>Installation_Year</th>\n",
       "      <th>Break_Time</th>\n",
       "      <th>Label</th>\n",
       "      <th>Condition_score</th>\n",
       "      <th>MATERIAL</th>\n",
       "    </tr>\n",
       "  </thead>\n",
       "  <tbody>\n",
       "    <tr>\n",
       "      <th>0</th>\n",
       "      <td>KIT 6</td>\n",
       "      <td>450</td>\n",
       "      <td>14.956131</td>\n",
       "      <td>1979</td>\n",
       "      <td>45.0</td>\n",
       "      <td>0</td>\n",
       "      <td>8.50</td>\n",
       "      <td>DI</td>\n",
       "    </tr>\n",
       "    <tr>\n",
       "      <th>1</th>\n",
       "      <td>KIT 6</td>\n",
       "      <td>450</td>\n",
       "      <td>124.970065</td>\n",
       "      <td>1979</td>\n",
       "      <td>45.0</td>\n",
       "      <td>0</td>\n",
       "      <td>8.50</td>\n",
       "      <td>DI</td>\n",
       "    </tr>\n",
       "    <tr>\n",
       "      <th>2</th>\n",
       "      <td>KIT 6</td>\n",
       "      <td>200</td>\n",
       "      <td>69.569744</td>\n",
       "      <td>2006</td>\n",
       "      <td>18.0</td>\n",
       "      <td>0</td>\n",
       "      <td>9.35</td>\n",
       "      <td>PVC</td>\n",
       "    </tr>\n",
       "    <tr>\n",
       "      <th>3</th>\n",
       "      <td>KIT 5</td>\n",
       "      <td>200</td>\n",
       "      <td>8.321570</td>\n",
       "      <td>2006</td>\n",
       "      <td>18.0</td>\n",
       "      <td>0</td>\n",
       "      <td>9.35</td>\n",
       "      <td>PVC</td>\n",
       "    </tr>\n",
       "    <tr>\n",
       "      <th>4</th>\n",
       "      <td>KIT 2W</td>\n",
       "      <td>150</td>\n",
       "      <td>0.752107</td>\n",
       "      <td>1980</td>\n",
       "      <td>44.0</td>\n",
       "      <td>0</td>\n",
       "      <td>8.50</td>\n",
       "      <td>DI</td>\n",
       "    </tr>\n",
       "    <tr>\n",
       "      <th>...</th>\n",
       "      <td>...</td>\n",
       "      <td>...</td>\n",
       "      <td>...</td>\n",
       "      <td>...</td>\n",
       "      <td>...</td>\n",
       "      <td>...</td>\n",
       "      <td>...</td>\n",
       "      <td>...</td>\n",
       "    </tr>\n",
       "    <tr>\n",
       "      <th>2995</th>\n",
       "      <td>KIT 4</td>\n",
       "      <td>150</td>\n",
       "      <td>2.964207</td>\n",
       "      <td>1957</td>\n",
       "      <td>46.0</td>\n",
       "      <td>1</td>\n",
       "      <td>3.95</td>\n",
       "      <td>CI</td>\n",
       "    </tr>\n",
       "    <tr>\n",
       "      <th>2996</th>\n",
       "      <td>KIT 5</td>\n",
       "      <td>300</td>\n",
       "      <td>16.757665</td>\n",
       "      <td>2019</td>\n",
       "      <td>5.0</td>\n",
       "      <td>0</td>\n",
       "      <td>9.85</td>\n",
       "      <td>PVC</td>\n",
       "    </tr>\n",
       "    <tr>\n",
       "      <th>2997</th>\n",
       "      <td>KIT 4</td>\n",
       "      <td>450</td>\n",
       "      <td>15.611054</td>\n",
       "      <td>1961</td>\n",
       "      <td>63.0</td>\n",
       "      <td>0</td>\n",
       "      <td>7.75</td>\n",
       "      <td>CI</td>\n",
       "    </tr>\n",
       "    <tr>\n",
       "      <th>2998</th>\n",
       "      <td>KIT 4</td>\n",
       "      <td>300</td>\n",
       "      <td>1.831055</td>\n",
       "      <td>1961</td>\n",
       "      <td>63.0</td>\n",
       "      <td>0</td>\n",
       "      <td>7.75</td>\n",
       "      <td>CI</td>\n",
       "    </tr>\n",
       "    <tr>\n",
       "      <th>2999</th>\n",
       "      <td>KIT 4</td>\n",
       "      <td>150</td>\n",
       "      <td>22.857188</td>\n",
       "      <td>1994</td>\n",
       "      <td>30.0</td>\n",
       "      <td>0</td>\n",
       "      <td>7.75</td>\n",
       "      <td>CI</td>\n",
       "    </tr>\n",
       "  </tbody>\n",
       "</table>\n",
       "<p>3000 rows × 8 columns</p>\n",
       "</div>"
      ],
      "text/plain": [
       "     PRESSURE_ZONE  PIPE_SIZE  Shape__Length  Installation_Year  Break_Time  \\\n",
       "0            KIT 6        450      14.956131               1979        45.0   \n",
       "1            KIT 6        450     124.970065               1979        45.0   \n",
       "2            KIT 6        200      69.569744               2006        18.0   \n",
       "3            KIT 5        200       8.321570               2006        18.0   \n",
       "4           KIT 2W        150       0.752107               1980        44.0   \n",
       "...            ...        ...            ...                ...         ...   \n",
       "2995         KIT 4        150       2.964207               1957        46.0   \n",
       "2996         KIT 5        300      16.757665               2019         5.0   \n",
       "2997         KIT 4        450      15.611054               1961        63.0   \n",
       "2998         KIT 4        300       1.831055               1961        63.0   \n",
       "2999         KIT 4        150      22.857188               1994        30.0   \n",
       "\n",
       "      Label  Condition_score MATERIAL  \n",
       "0         0             8.50       DI  \n",
       "1         0             8.50       DI  \n",
       "2         0             9.35      PVC  \n",
       "3         0             9.35      PVC  \n",
       "4         0             8.50       DI  \n",
       "...     ...              ...      ...  \n",
       "2995      1             3.95       CI  \n",
       "2996      0             9.85      PVC  \n",
       "2997      0             7.75       CI  \n",
       "2998      0             7.75       CI  \n",
       "2999      0             7.75       CI  \n",
       "\n",
       "[3000 rows x 8 columns]"
      ]
     },
     "execution_count": 53,
     "metadata": {},
     "output_type": "execute_result"
    }
   ],
   "source": [
    "sa_data"
   ]
  },
  {
   "cell_type": "code",
   "execution_count": 54,
   "id": "fc129a60-09c7-4679-977f-93919184de86",
   "metadata": {
    "tags": []
   },
   "outputs": [],
   "source": [
    "sa_data.rename(columns = {'PIPE_SIZE':'PIPE_DIAMETER','Shape__Length':'PIPE_LENGTH'}, inplace = True)"
   ]
  },
  {
   "cell_type": "code",
   "execution_count": 55,
   "id": "a8fdb81d-f702-43e9-999a-238010a3d709",
   "metadata": {},
   "outputs": [
    {
     "data": {
      "text/plain": [
       "0    2568\n",
       "1     432\n",
       "Name: Label, dtype: int64"
      ]
     },
     "execution_count": 55,
     "metadata": {},
     "output_type": "execute_result"
    }
   ],
   "source": [
    "sa_data['Label'].value_counts()"
   ]
  },
  {
   "cell_type": "code",
   "execution_count": 56,
   "id": "6f6c6070-1eeb-4ee5-8d0d-986c428196ea",
   "metadata": {
    "tags": []
   },
   "outputs": [],
   "source": [
    "sa_data = pd.get_dummies(sa_data, columns = ['MATERIAL','PRESSURE_ZONE'])"
   ]
  },
  {
   "cell_type": "code",
   "execution_count": 57,
   "id": "0169c584-decc-4bad-90a0-2e8fdfd4b610",
   "metadata": {
    "tags": []
   },
   "outputs": [],
   "source": [
    "sc = StandardScaler()\n",
    "sc.fit(sa_data[['PIPE_LENGTH','PIPE_DIAMETER']])\n",
    "sa_data[['PIPE_LENGTH','PIPE_DIAMETER']] = sc.transform(ml_data[['PIPE_LENGTH','PIPE_DIAMETER']])"
   ]
  },
  {
   "cell_type": "code",
   "execution_count": 58,
   "id": "adcfd427-ab8a-4bf9-b8b9-d6b65071b27c",
   "metadata": {
    "tags": []
   },
   "outputs": [
    {
     "name": "stderr",
     "output_type": "stream",
     "text": [
      "C:\\Users\\asus_\\AppData\\Local\\Programs\\Python\\Python311\\Lib\\site-packages\\lifelines\\utils\\__init__.py:1100: ConvergenceWarning: Column(s) ['PIPE_DIAMETER', 'PIPE_LENGTH'] have very low variance. This may harm convergence. 1) Are you using formula's? Did you mean to add '-1' to the end. 2) Try dropping this redundant column before fitting if convergence fails.\n",
      "\n",
      "  warnings.warn(dedent(warning_text), ConvergenceWarning)\n",
      "C:\\Users\\asus_\\AppData\\Local\\Programs\\Python\\Python311\\Lib\\site-packages\\lifelines\\utils\\__init__.py:1120: ConvergenceWarning: Column MATERIAL_COP have very low variance when conditioned on death event present or not. This may harm convergence. This could be a form of 'complete separation'. For example, try the following code:\n",
      "\n",
      ">>> events = df['Label'].astype(bool)\n",
      ">>> print(df.loc[events, 'MATERIAL_COP'].var())\n",
      ">>> print(df.loc[~events, 'MATERIAL_COP'].var())\n",
      "\n",
      "A very low variance means that the column MATERIAL_COP completely determines whether a subject dies or not. See https://stats.stackexchange.com/questions/11109/how-to-deal-with-perfect-separation-in-logistic-regression.\n",
      "\n",
      "  warnings.warn(dedent(warning_text), ConvergenceWarning)\n",
      "C:\\Users\\asus_\\AppData\\Local\\Programs\\Python\\Python311\\Lib\\site-packages\\lifelines\\fitters\\coxph_fitter.py:1614: ConvergenceWarning: Newton-Raphson failed to converge sufficiently. Please see the following tips in the lifelines documentation: https://lifelines.readthedocs.io/en/latest/Examples.html#problems-with-convergence-in-the-cox-proportional-hazard-model\n",
      "  warnings.warn(\n",
      "C:\\Users\\asus_\\AppData\\Local\\Programs\\Python\\Python311\\Lib\\site-packages\\lifelines\\utils\\__init__.py:1100: ConvergenceWarning: Column(s) ['PIPE_DIAMETER', 'PIPE_LENGTH'] have very low variance. This may harm convergence. 1) Are you using formula's? Did you mean to add '-1' to the end. 2) Try dropping this redundant column before fitting if convergence fails.\n",
      "\n",
      "  warnings.warn(dedent(warning_text), ConvergenceWarning)\n",
      "C:\\Users\\asus_\\AppData\\Local\\Programs\\Python\\Python311\\Lib\\site-packages\\lifelines\\utils\\__init__.py:1120: ConvergenceWarning: Column MATERIAL_COP have very low variance when conditioned on death event present or not. This may harm convergence. This could be a form of 'complete separation'. For example, try the following code:\n",
      "\n",
      ">>> events = df['Label'].astype(bool)\n",
      ">>> print(df.loc[events, 'MATERIAL_COP'].var())\n",
      ">>> print(df.loc[~events, 'MATERIAL_COP'].var())\n",
      "\n",
      "A very low variance means that the column MATERIAL_COP completely determines whether a subject dies or not. See https://stats.stackexchange.com/questions/11109/how-to-deal-with-perfect-separation-in-logistic-regression.\n",
      "\n",
      "  warnings.warn(dedent(warning_text), ConvergenceWarning)\n",
      "C:\\Users\\asus_\\AppData\\Local\\Programs\\Python\\Python311\\Lib\\site-packages\\lifelines\\fitters\\coxph_fitter.py:1614: ConvergenceWarning: Newton-Raphson failed to converge sufficiently. Please see the following tips in the lifelines documentation: https://lifelines.readthedocs.io/en/latest/Examples.html#problems-with-convergence-in-the-cox-proportional-hazard-model\n",
      "  warnings.warn(\n",
      "C:\\Users\\asus_\\AppData\\Local\\Programs\\Python\\Python311\\Lib\\site-packages\\lifelines\\utils\\__init__.py:1100: ConvergenceWarning: Column(s) ['PIPE_DIAMETER', 'PIPE_LENGTH'] have very low variance. This may harm convergence. 1) Are you using formula's? Did you mean to add '-1' to the end. 2) Try dropping this redundant column before fitting if convergence fails.\n",
      "\n",
      "  warnings.warn(dedent(warning_text), ConvergenceWarning)\n",
      "C:\\Users\\asus_\\AppData\\Local\\Programs\\Python\\Python311\\Lib\\site-packages\\lifelines\\utils\\__init__.py:1120: ConvergenceWarning: Column MATERIAL_COP have very low variance when conditioned on death event present or not. This may harm convergence. This could be a form of 'complete separation'. For example, try the following code:\n",
      "\n",
      ">>> events = df['Label'].astype(bool)\n",
      ">>> print(df.loc[events, 'MATERIAL_COP'].var())\n",
      ">>> print(df.loc[~events, 'MATERIAL_COP'].var())\n",
      "\n",
      "A very low variance means that the column MATERIAL_COP completely determines whether a subject dies or not. See https://stats.stackexchange.com/questions/11109/how-to-deal-with-perfect-separation-in-logistic-regression.\n",
      "\n",
      "  warnings.warn(dedent(warning_text), ConvergenceWarning)\n",
      "C:\\Users\\asus_\\AppData\\Local\\Programs\\Python\\Python311\\Lib\\site-packages\\lifelines\\fitters\\coxph_fitter.py:1614: ConvergenceWarning: Newton-Raphson failed to converge sufficiently. Please see the following tips in the lifelines documentation: https://lifelines.readthedocs.io/en/latest/Examples.html#problems-with-convergence-in-the-cox-proportional-hazard-model\n",
      "  warnings.warn(\n",
      "C:\\Users\\asus_\\AppData\\Local\\Programs\\Python\\Python311\\Lib\\site-packages\\lifelines\\utils\\__init__.py:1100: ConvergenceWarning: Column(s) ['PIPE_DIAMETER', 'PIPE_LENGTH'] have very low variance. This may harm convergence. 1) Are you using formula's? Did you mean to add '-1' to the end. 2) Try dropping this redundant column before fitting if convergence fails.\n",
      "\n",
      "  warnings.warn(dedent(warning_text), ConvergenceWarning)\n",
      "C:\\Users\\asus_\\AppData\\Local\\Programs\\Python\\Python311\\Lib\\site-packages\\lifelines\\utils\\__init__.py:1120: ConvergenceWarning: Column MATERIAL_COP have very low variance when conditioned on death event present or not. This may harm convergence. This could be a form of 'complete separation'. For example, try the following code:\n",
      "\n",
      ">>> events = df['Label'].astype(bool)\n",
      ">>> print(df.loc[events, 'MATERIAL_COP'].var())\n",
      ">>> print(df.loc[~events, 'MATERIAL_COP'].var())\n",
      "\n",
      "A very low variance means that the column MATERIAL_COP completely determines whether a subject dies or not. See https://stats.stackexchange.com/questions/11109/how-to-deal-with-perfect-separation-in-logistic-regression.\n",
      "\n",
      "  warnings.warn(dedent(warning_text), ConvergenceWarning)\n",
      "C:\\Users\\asus_\\AppData\\Local\\Programs\\Python\\Python311\\Lib\\site-packages\\lifelines\\fitters\\coxph_fitter.py:1614: ConvergenceWarning: Newton-Raphson failed to converge sufficiently. Please see the following tips in the lifelines documentation: https://lifelines.readthedocs.io/en/latest/Examples.html#problems-with-convergence-in-the-cox-proportional-hazard-model\n",
      "  warnings.warn(\n",
      "C:\\Users\\asus_\\AppData\\Local\\Programs\\Python\\Python311\\Lib\\site-packages\\lifelines\\utils\\__init__.py:1100: ConvergenceWarning: Column(s) ['PIPE_DIAMETER', 'PIPE_LENGTH'] have very low variance. This may harm convergence. 1) Are you using formula's? Did you mean to add '-1' to the end. 2) Try dropping this redundant column before fitting if convergence fails.\n",
      "\n",
      "  warnings.warn(dedent(warning_text), ConvergenceWarning)\n",
      "C:\\Users\\asus_\\AppData\\Local\\Programs\\Python\\Python311\\Lib\\site-packages\\lifelines\\utils\\__init__.py:1100: ConvergenceWarning: Column(s) ['PIPE_DIAMETER', 'PIPE_LENGTH'] have very low variance. This may harm convergence. 1) Are you using formula's? Did you mean to add '-1' to the end. 2) Try dropping this redundant column before fitting if convergence fails.\n",
      "\n",
      "  warnings.warn(dedent(warning_text), ConvergenceWarning)\n"
     ]
    }
   ],
   "source": [
    "from lifelines import CoxPHFitter\n",
    "\n",
    "surv_ress = []\n",
    "cscores = []\n",
    "penalizers = [0.0001,0.001,0.01,0.1,1,10]\n",
    "\n",
    "only_for_cox_data = sa_data.drop(['Installation_Year', 'Condition_score'], axis = 1)\n",
    "for pen in penalizers:\n",
    "    wf = CoxPHFitter(penalizer=pen).fit(only_for_cox_data, \"Break_Time\", \"Label\")\n",
    "    censored_subjects = only_for_cox_data.loc[~only_for_cox_data['Label'].astype(bool)]\n",
    "    censored_subjects_last_obs = censored_subjects['Break_Time']\n",
    "\n",
    "    # predict new survival function\n",
    "    surv_ress.append(wf.predict_survival_function(censored_subjects, conditional_after=censored_subjects_last_obs))\n",
    "    cscores.append(wf.concordance_index_)\n",
    "\n",
    "# # predict median remaining life\n",
    "# wf.predict_median(censored_subjects, conditional_after=censored_subjects_last_obs)"
   ]
  },
  {
   "cell_type": "code",
   "execution_count": 59,
   "id": "4b01e0b3-3325-490a-a832-7e60c3b73ebb",
   "metadata": {
    "tags": []
   },
   "outputs": [
    {
     "data": {
      "text/plain": [
       "[0.5917356996684628,\n",
       " 0.593964415609948,\n",
       " 0.6094287016433876,\n",
       " 0.779552827001957,\n",
       " 0.7791417566999991,\n",
       " 0.7727630179709213]"
      ]
     },
     "execution_count": 59,
     "metadata": {},
     "output_type": "execute_result"
    }
   ],
   "source": [
    "cscores"
   ]
  },
  {
   "cell_type": "code",
   "execution_count": 64,
   "id": "1aca4edf-3fdb-47c9-b2c7-eba3e7708a0d",
   "metadata": {
    "tags": []
   },
   "outputs": [
    {
     "name": "stderr",
     "output_type": "stream",
     "text": [
      "C:\\Users\\asus_\\AppData\\Local\\Programs\\Python\\Python311\\Lib\\site-packages\\lifelines\\utils\\__init__.py:1100: ConvergenceWarning: Column(s) ['PIPE_DIAMETER', 'PIPE_LENGTH'] have very low variance. This may harm convergence. 1) Are you using formula's? Did you mean to add '-1' to the end. 2) Try dropping this redundant column before fitting if convergence fails.\n",
      "\n",
      "  warnings.warn(dedent(warning_text), ConvergenceWarning)\n"
     ]
    },
    {
     "data": {
      "text/plain": [
       "['Cox_SA_model.pkl']"
      ]
     },
     "execution_count": 64,
     "metadata": {},
     "output_type": "execute_result"
    }
   ],
   "source": [
    "only_for_cox_test = only_for_cox_data.sample(frac = 0.2)\n",
    "only_for_cox_train = only_for_cox_data.drop(only_for_cox_test.index)\n",
    "\n",
    "cph_best = CoxPHFitter(penalizer = 10.0)\n",
    "cph_best.fit(only_for_cox_train, duration_col='Break_Time', event_col='Label')\n",
    "censored_subjects = only_for_cox_test.loc[~only_for_cox_test['Label'].astype(bool)]\n",
    "censored_subjects_last_obs = censored_subjects['Break_Time']\n",
    "\n",
    "# predict new survival function\n",
    "cph_best.predict_survival_function(censored_subjects, conditional_after=censored_subjects_last_obs)\n",
    "joblib.dump(cph_best, \"Cox_SA_model.pkl\")"
   ]
  },
  {
   "cell_type": "code",
   "execution_count": 65,
   "id": "e411db34-844b-4721-aeb4-b2f781a97adb",
   "metadata": {
    "tags": []
   },
   "outputs": [
    {
     "name": "stdout",
     "output_type": "stream",
     "text": [
      "0.7537311525320716\n"
     ]
    }
   ],
   "source": [
    "print(cph_best.concordance_index_)"
   ]
  },
  {
   "cell_type": "markdown",
   "id": "d547430a-2b81-4bd1-aed8-7177036b24e1",
   "metadata": {},
   "source": [
    "With XGBSE"
   ]
  },
  {
   "cell_type": "code",
   "execution_count": 66,
   "id": "ad02acee-d346-45f8-9f74-58daafafa87a",
   "metadata": {
    "tags": []
   },
   "outputs": [],
   "source": [
    "# splitting to X, T, E format\n",
    "X = sa_data.drop(['Break_Time', 'Label', 'Installation_Year', 'Condition_score'], axis=1)\n",
    "y = convert_to_structured(sa_data['Break_Time'], sa_data['Label'])"
   ]
  },
  {
   "cell_type": "code",
   "execution_count": 67,
   "id": "4709c007-e564-4c02-b282-dea5fcc2b345",
   "metadata": {
    "tags": []
   },
   "outputs": [],
   "source": [
    "X_train, X_valid, y_train, y_valid = train_test_split(X,y,test_size=0.2)"
   ]
  },
  {
   "cell_type": "code",
   "execution_count": 68,
   "id": "3d8960eb-5887-44ed-98cf-b05d89a97632",
   "metadata": {
    "tags": []
   },
   "outputs": [],
   "source": [
    "## pre selected params for models ##\n",
    "\n",
    "PARAMS_XGB_AFT = {\n",
    "    'objective': 'survival:aft',\n",
    "    'eval_metric': 'aft-nloglik',\n",
    "    'aft_loss_distribution': 'normal',\n",
    "    'aft_loss_distribution_scale': 1.0,\n",
    "    'tree_method': 'hist', \n",
    "    'learning_rate': 5e-2, \n",
    "    'max_depth': 8, \n",
    "    'booster':'dart',\n",
    "    'subsample':0.5,\n",
    "    'min_child_weight': 50,\n",
    "    'colsample_bynode':0.5\n",
    "}\n",
    "\n",
    "PARAMS_XGB_COX = {\n",
    "    'objective': 'survival:cox',\n",
    "    'tree_method': 'hist', \n",
    "    'learning_rate': 5e-2, \n",
    "    'max_depth': 8, \n",
    "    'booster':'dart',\n",
    "    'subsample':0.5,\n",
    "    'min_child_weight': 50, \n",
    "    'colsample_bynode':0.5\n",
    "}\n",
    "\n",
    "PARAMS_TREE = {\n",
    "    'objective': 'survival:cox',\n",
    "    'eval_metric': 'cox-nloglik',\n",
    "    'tree_method': 'hist', \n",
    "    'max_depth': 100, \n",
    "    'booster':'dart', \n",
    "    'subsample': 1.0,\n",
    "    'min_child_weight': 50, \n",
    "    'colsample_bynode': 1.0\n",
    "}\n",
    "\n",
    "PARAMS_LR = {\n",
    "    'C': 1e-3,\n",
    "    'max_iter': 500\n",
    "}\n",
    "\n",
    "N_NEIGHBORS = 50"
   ]
  },
  {
   "cell_type": "code",
   "execution_count": 69,
   "id": "307c2d32-9979-46a9-9be0-9f9caaae207d",
   "metadata": {
    "tags": []
   },
   "outputs": [
    {
     "name": "stdout",
     "output_type": "stream",
     "text": [
      "C-index: 0.756\n",
      "Average survival time: 3 years\n"
     ]
    },
    {
     "data": {
      "text/plain": [
       "['XGB_AFT_model.pkl']"
      ]
     },
     "execution_count": 69,
     "metadata": {},
     "output_type": "execute_result"
    }
   ],
   "source": [
    "# Fit XGBoost model to predict a value that is interpreted as a risk metric. Fit Weibull Regression model using risk metric as only independent variable.\n",
    "# Predicts survival probabilities using the XGBoost + Weibull AFT stacking pipeline.\n",
    "\n",
    "# converting to xgboost format\n",
    "dtrain = convert_data_to_xgb_format(X_train, y_train, 'survival:aft')\n",
    "dval = convert_data_to_xgb_format(X_valid, y_valid, 'survival:aft')\n",
    "\n",
    "# training model\n",
    "bst = xgb.train(\n",
    "    PARAMS_XGB_AFT,\n",
    "    dtrain,\n",
    "    # num_boost_round=1000,\n",
    "    # early_stopping_rounds=10,\n",
    "    # evals=[(dval, 'val')],\n",
    "    verbose_eval=0\n",
    ")\n",
    "\n",
    "# predicting and evaluating\n",
    "preds = bst.predict(dval)\n",
    "cind = concordance_index(y_valid, -preds, risk_strategy='precomputed')\n",
    "print(f\"C-index: {cind:.3f}\")\n",
    "print(f\"Average survival time: {preds.mean():.0f} years\")\n",
    "joblib.dump(bst, \"XGB_AFT_model.pkl\")"
   ]
  },
  {
   "cell_type": "code",
   "execution_count": 70,
   "id": "c6099e1f-bfe8-4e5e-a2cd-23cdcbc86e8d",
   "metadata": {
    "tags": []
   },
   "outputs": [
    {
     "name": "stdout",
     "output_type": "stream",
     "text": [
      "C-index: 0.7955845192179811\n",
      "Avg. Brier Score: 0.12022757719014798\n",
      "D-Calibration: True\n"
     ]
    },
    {
     "data": {
      "text/plain": [
       "['XGB_KM_N_model.pkl']"
      ]
     },
     "execution_count": 70,
     "metadata": {},
     "output_type": "execute_result"
    }
   ],
   "source": [
    "# Transform feature space by fitting a XGBoost model and outputting its leaf indices. Build search index in the new space to allow nearest neighbor queries at scoring time.\n",
    "# Make queries to nearest neighbor search index build on the transformed XGBoost space. Compute a Kaplan-Meier estimator for each neighbor-set. Predict the KM estimators\n",
    "\n",
    "# training model\n",
    "xgbse_kaplan = XGBSEKaplanNeighbors(PARAMS_XGB_AFT, n_neighbors=30)\n",
    "\n",
    "xgbse_kaplan.fit(\n",
    "    X_train, y_train\n",
    "    # validation_data = (X_valid, y_valid)\n",
    "    # early_stopping_rounds=10,\n",
    "    # time_bins=TIME_BINS\n",
    ")\n",
    "\n",
    "# predicting\n",
    "preds = xgbse_kaplan.predict(X_valid)\n",
    "\n",
    "# running metrics\n",
    "print(f'C-index: {concordance_index(y_valid, preds)}')\n",
    "print(f'Avg. Brier Score: {approx_brier_score(y_valid, preds)}')\n",
    "print(f\"\"\"D-Calibration: {dist_calibration_score(y_valid, preds) > 0.05}\"\"\")\n",
    "joblib.dump(xgbse_kaplan, \"XGB_KM_N_model.pkl\")"
   ]
  },
  {
   "cell_type": "code",
   "execution_count": 71,
   "id": "ef1bb806-fa8c-4405-9c73-0afa14a9859f",
   "metadata": {
    "tags": []
   },
   "outputs": [
    {
     "name": "stdout",
     "output_type": "stream",
     "text": [
      "C-index: 0.771046681739593\n",
      "Avg. Brier Score: 0.1127032896148968\n",
      "D-Calibration: True\n"
     ]
    },
    {
     "data": {
      "text/plain": [
       "['XGB_KM_TREE_model.pkl']"
      ]
     },
     "execution_count": 71,
     "metadata": {},
     "output_type": "execute_result"
    }
   ],
   "source": [
    "# Fit a single decision tree using xgboost. For each leaf in the tree, build a Kaplan-Meier estimator.\n",
    "# Run samples through tree until terminal nodes. Predict the Kaplan-Meier estimator associated to the leaf node each sample ended into.\n",
    "\n",
    "xgbse_km_tree = XGBSEKaplanTree(PARAMS_TREE)\n",
    "xgbse_km_tree.fit(\n",
    "    X_train, y_train\n",
    ")\n",
    "\n",
    "# predicting\n",
    "preds = xgbse_km_tree.predict(X_valid)\n",
    "\n",
    "print(f'C-index: {concordance_index(y_valid, preds)}')\n",
    "print(f'Avg. Brier Score: {approx_brier_score(y_valid, preds)}')\n",
    "print(f\"\"\"D-Calibration: {dist_calibration_score(y_valid, preds) > 0.05}\"\"\")\n",
    "joblib.dump(xgbse_km_tree, \"XGB_KM_TREE_model.pkl\")"
   ]
  },
  {
   "cell_type": "code",
   "execution_count": 72,
   "id": "d36495a3-61ad-457d-9f51-46894273d02b",
   "metadata": {
    "tags": []
   },
   "outputs": [
    {
     "name": "stdout",
     "output_type": "stream",
     "text": [
      "C-index: 0.8172629339007846\n",
      "Avg. Brier Score: 0.10764315439921397\n",
      "D-Calibration: True\n"
     ]
    },
    {
     "data": {
      "text/plain": [
       "['XGB_LOR_model.pkl']"
      ]
     },
     "execution_count": 72,
     "metadata": {},
     "output_type": "execute_result"
    }
   ],
   "source": [
    "# Predicts survival probabilities using the XGBoost + Logistic Regression pipeline.\n",
    "# Train a set of logistic regressions on top of the leaf embedding produced by XGBoost, each predicting survival at different user-defined discrete time windows. \n",
    "# The classifiers remove individuals as they are censored, with targets that are indicators of surviving at each window.\n",
    "\n",
    "# base model\n",
    "base_model = XGBSEDebiasedBCE(PARAMS_XGB_AFT, PARAMS_LR)\n",
    "\n",
    "# # bootstrap meta estimator\n",
    "# bootstrap_estimator = XGBSEBootstrapEstimator(base_model, n_estimators=5)\n",
    "\n",
    "# fitting the meta estimator\n",
    "base_model.fit(\n",
    "    X_train,\n",
    "    y_train\n",
    ")\n",
    "\n",
    "# predicting\n",
    "preds = base_model.predict(X_valid)\n",
    "\n",
    "# running metrics\n",
    "print(f'C-index: {concordance_index(y_valid, preds)}')\n",
    "print(f'Avg. Brier Score: {approx_brier_score(y_valid, preds)}')\n",
    "print(f\"\"\"D-Calibration: {dist_calibration_score(y_valid, preds) > 0.05}\"\"\")\n",
    "joblib.dump(base_model, \"XGB_LOR_model.pkl\")"
   ]
  },
  {
   "cell_type": "code",
   "execution_count": 82,
   "id": "433543ac-fcfa-4f43-8dc0-f1cff5775170",
   "metadata": {
    "tags": []
   },
   "outputs": [],
   "source": [
    "# After the above step, decide the best performing model. the next step is to decide 5 pipes that will go.\n",
    "# The best model will predict the 'Break_Time' for the 'risk_pipes' dataset\n",
    "# Remove columns if necessary\n",
    "\n",
    "# So, cox model does perform well, however often we are faced with convergence error. Yet, this time the best model isit is the best.\n",
    "\n",
    "# Compare the columns of X_valid and risk_pipes\n",
    "\n",
    "surv_cols = list(X_valid.columns)\n",
    "# sorted(surv_cols)"
   ]
  },
  {
   "cell_type": "code",
   "execution_count": 83,
   "id": "a3ff006d-c14b-4bb3-b976-ab9729254ac5",
   "metadata": {
    "tags": []
   },
   "outputs": [],
   "source": [
    "ml_cols = list(risk_pipes.columns)\n",
    "# sorted(ml_cols)"
   ]
  },
  {
   "cell_type": "markdown",
   "id": "c97ffbe9-0125-437b-a9d1-ce215a5f40b3",
   "metadata": {},
   "source": [
    "#### Only if the best model is Cox"
   ]
  },
  {
   "cell_type": "code",
   "execution_count": 90,
   "id": "8bccaf09-a888-4d68-aa94-d91ebfe03d59",
   "metadata": {
    "tags": []
   },
   "outputs": [],
   "source": [
    "# So the columns are matching. Now, we need to remove 'Predicted condition' and 'Label' from 'risk_pipes', because we want to predict.\n",
    "# Just for this. And only for those pipes that are labelled '0'.\n",
    "for_surv_pred_risk_pipes = risk_pipes.loc[risk_pipes['Label'] == 0]\n",
    "for_surv_pred_risk_pipes = for_surv_pred_risk_pipes.drop(['Predicted condition', 'Label'], axis = 1)"
   ]
  },
  {
   "cell_type": "code",
   "execution_count": 95,
   "id": "c06f69ac-6d1e-4389-92c3-7e8a2a008fc3",
   "metadata": {
    "tags": []
   },
   "outputs": [],
   "source": [
    "# Load the model and predict the survival function\n",
    "\n",
    "pred_model = joblib.load(\"Cox_SA_model.pkl\")"
   ]
  },
  {
   "cell_type": "code",
   "execution_count": 96,
   "id": "81931509-07d5-41a4-bcca-c12138ced86a",
   "metadata": {
    "tags": []
   },
   "outputs": [],
   "source": [
    "censored_subjects_last_obs = for_surv_pred_risk_pipes['Age']\n",
    "preds = pred_model.predict_survival_function(for_surv_pred_risk_pipes, conditional_after = censored_subjects_last_obs)"
   ]
  },
  {
   "cell_type": "markdown",
   "id": "4d3870c7-a04e-44aa-a611-9f44827a843e",
   "metadata": {},
   "source": [
    "#### Best model other than Cox"
   ]
  },
  {
   "cell_type": "code",
   "execution_count": 181,
   "id": "04181d68-d98b-4022-86e7-ecbee80fc557",
   "metadata": {
    "tags": []
   },
   "outputs": [],
   "source": [
    "risk_pipes.to_csv(\"risk_prone_pipes.csv\", index = True)"
   ]
  },
  {
   "cell_type": "code",
   "execution_count": 75,
   "id": "b07193dc-d24b-49d3-a2c7-7c2fe3f43cfd",
   "metadata": {
    "tags": []
   },
   "outputs": [],
   "source": [
    "for_surv_pred_risk_pipes = risk_pipes.drop(['Age', 'Predicted condition', 'Label'], axis = 1)"
   ]
  },
  {
   "cell_type": "code",
   "execution_count": 76,
   "id": "73ddd233-b901-4990-a2f3-a3b5c19df119",
   "metadata": {
    "tags": []
   },
   "outputs": [],
   "source": [
    "pred_model = joblib.load(\"XGB_LOR_model.pkl\")"
   ]
  },
  {
   "cell_type": "code",
   "execution_count": 78,
   "id": "d19b1ba7-c09a-45b2-b973-5c079a8c7778",
   "metadata": {
    "tags": []
   },
   "outputs": [
    {
     "data": {
      "text/plain": [
       "(183, 25)"
      ]
     },
     "execution_count": 78,
     "metadata": {},
     "output_type": "execute_result"
    }
   ],
   "source": [
    "for_surv_pred_risk_pipes.shape"
   ]
  },
  {
   "cell_type": "code",
   "execution_count": 84,
   "id": "2746c062-5f5e-4ebc-a730-b7d2e676424c",
   "metadata": {
    "tags": []
   },
   "outputs": [
    {
     "data": {
      "text/plain": [
       "['PIPE_DIAMETER',\n",
       " 'PIPE_LENGTH',\n",
       " 'MATERIAL_AC',\n",
       " 'MATERIAL_CI',\n",
       " 'MATERIAL_COP',\n",
       " 'MATERIAL_CPP',\n",
       " 'MATERIAL_DI',\n",
       " 'MATERIAL_HDPE',\n",
       " 'MATERIAL_PVC',\n",
       " 'MATERIAL_PVCB',\n",
       " 'MATERIAL_PVCF',\n",
       " 'MATERIAL_PVCO',\n",
       " 'MATERIAL_ST',\n",
       " 'PRESSURE_ZONE_BRESLAU',\n",
       " 'PRESSURE_ZONE_BRIDGEPORT',\n",
       " 'PRESSURE_ZONE_KIT 2E',\n",
       " 'PRESSURE_ZONE_KIT 2EA',\n",
       " 'PRESSURE_ZONE_KIT 2W',\n",
       " 'PRESSURE_ZONE_KIT 4',\n",
       " 'PRESSURE_ZONE_KIT 4A',\n",
       " 'PRESSURE_ZONE_KIT 5',\n",
       " 'PRESSURE_ZONE_KIT 6',\n",
       " 'PRESSURE_ZONE_MANNHEIM',\n",
       " 'PRESSURE_ZONE_RAW NO ZONE',\n",
       " 'PRESSURE_ZONE_WAT 4']"
      ]
     },
     "execution_count": 84,
     "metadata": {},
     "output_type": "execute_result"
    }
   ],
   "source": [
    "surv_cols"
   ]
  },
  {
   "cell_type": "code",
   "execution_count": 86,
   "id": "1f4c5e73-4b69-41ab-a601-5b4bb44f86ea",
   "metadata": {
    "tags": []
   },
   "outputs": [
    {
     "data": {
      "text/plain": [
       "['PIPE_DIAMETER',\n",
       " 'PIPE_LENGTH',\n",
       " 'PRESSURE_ZONE_BRESLAU',\n",
       " 'PRESSURE_ZONE_BRIDGEPORT',\n",
       " 'PRESSURE_ZONE_KIT 2E',\n",
       " 'PRESSURE_ZONE_KIT 2EA',\n",
       " 'PRESSURE_ZONE_KIT 2W',\n",
       " 'PRESSURE_ZONE_KIT 4',\n",
       " 'PRESSURE_ZONE_KIT 4A',\n",
       " 'PRESSURE_ZONE_KIT 5',\n",
       " 'PRESSURE_ZONE_KIT 6',\n",
       " 'PRESSURE_ZONE_MANNHEIM',\n",
       " 'PRESSURE_ZONE_RAW NO ZONE',\n",
       " 'PRESSURE_ZONE_WAT 4',\n",
       " 'MATERIAL_AC',\n",
       " 'MATERIAL_CI',\n",
       " 'MATERIAL_COP',\n",
       " 'MATERIAL_CPP',\n",
       " 'MATERIAL_DI',\n",
       " 'MATERIAL_HDPE',\n",
       " 'MATERIAL_PVC',\n",
       " 'MATERIAL_PVCB',\n",
       " 'MATERIAL_PVCF',\n",
       " 'MATERIAL_PVCO',\n",
       " 'MATERIAL_ST']"
      ]
     },
     "execution_count": 86,
     "metadata": {},
     "output_type": "execute_result"
    }
   ],
   "source": [
    "list(for_surv_pred_risk_pipes.columns)"
   ]
  },
  {
   "cell_type": "code",
   "execution_count": 87,
   "id": "a3349fdf-b2b7-4642-b298-a215c9e13236",
   "metadata": {
    "tags": []
   },
   "outputs": [],
   "source": [
    "for_surv_pred_risk_pipes = for_surv_pred_risk_pipes[surv_cols]"
   ]
  },
  {
   "cell_type": "code",
   "execution_count": 89,
   "id": "2627f8e7-4a48-436d-8daa-a2bc9d37cf1d",
   "metadata": {
    "tags": []
   },
   "outputs": [],
   "source": [
    "preds = pred_model.predict(for_surv_pred_risk_pipes)"
   ]
  },
  {
   "cell_type": "code",
   "execution_count": 90,
   "id": "910c5817-a5b7-4695-b035-6f005782001d",
   "metadata": {
    "tags": []
   },
   "outputs": [
    {
     "data": {
      "text/html": [
       "<div>\n",
       "<style scoped>\n",
       "    .dataframe tbody tr th:only-of-type {\n",
       "        vertical-align: middle;\n",
       "    }\n",
       "\n",
       "    .dataframe tbody tr th {\n",
       "        vertical-align: top;\n",
       "    }\n",
       "\n",
       "    .dataframe thead th {\n",
       "        text-align: right;\n",
       "    }\n",
       "</style>\n",
       "<table border=\"1\" class=\"dataframe\">\n",
       "  <thead>\n",
       "    <tr style=\"text-align: right;\">\n",
       "      <th></th>\n",
       "      <th>3</th>\n",
       "      <th>10</th>\n",
       "      <th>17</th>\n",
       "      <th>25</th>\n",
       "      <th>32</th>\n",
       "      <th>40</th>\n",
       "      <th>47</th>\n",
       "      <th>55</th>\n",
       "      <th>62</th>\n",
       "      <th>70</th>\n",
       "      <th>77</th>\n",
       "      <th>85</th>\n",
       "    </tr>\n",
       "  </thead>\n",
       "  <tbody>\n",
       "    <tr>\n",
       "      <th>0</th>\n",
       "      <td>0.987604</td>\n",
       "      <td>0.983895</td>\n",
       "      <td>0.981893</td>\n",
       "      <td>0.975344</td>\n",
       "      <td>0.953802</td>\n",
       "      <td>0.870412</td>\n",
       "      <td>0.774642</td>\n",
       "      <td>0.655742</td>\n",
       "      <td>0.425755</td>\n",
       "      <td>0.294226</td>\n",
       "      <td>0.221310</td>\n",
       "      <td>0.199276</td>\n",
       "    </tr>\n",
       "    <tr>\n",
       "      <th>1</th>\n",
       "      <td>0.987604</td>\n",
       "      <td>0.983895</td>\n",
       "      <td>0.981893</td>\n",
       "      <td>0.975344</td>\n",
       "      <td>0.953802</td>\n",
       "      <td>0.870412</td>\n",
       "      <td>0.774642</td>\n",
       "      <td>0.655742</td>\n",
       "      <td>0.425755</td>\n",
       "      <td>0.294226</td>\n",
       "      <td>0.221310</td>\n",
       "      <td>0.199276</td>\n",
       "    </tr>\n",
       "    <tr>\n",
       "      <th>2</th>\n",
       "      <td>0.995405</td>\n",
       "      <td>0.991351</td>\n",
       "      <td>0.989090</td>\n",
       "      <td>0.976330</td>\n",
       "      <td>0.913961</td>\n",
       "      <td>0.877609</td>\n",
       "      <td>0.793780</td>\n",
       "      <td>0.680567</td>\n",
       "      <td>0.351625</td>\n",
       "      <td>0.249233</td>\n",
       "      <td>0.204682</td>\n",
       "      <td>0.185433</td>\n",
       "    </tr>\n",
       "    <tr>\n",
       "      <th>3</th>\n",
       "      <td>0.994737</td>\n",
       "      <td>0.991058</td>\n",
       "      <td>0.988953</td>\n",
       "      <td>0.982534</td>\n",
       "      <td>0.952134</td>\n",
       "      <td>0.872444</td>\n",
       "      <td>0.781637</td>\n",
       "      <td>0.650523</td>\n",
       "      <td>0.426358</td>\n",
       "      <td>0.281225</td>\n",
       "      <td>0.216749</td>\n",
       "      <td>0.195540</td>\n",
       "    </tr>\n",
       "    <tr>\n",
       "      <th>4</th>\n",
       "      <td>0.896379</td>\n",
       "      <td>0.891812</td>\n",
       "      <td>0.888416</td>\n",
       "      <td>0.871304</td>\n",
       "      <td>0.840749</td>\n",
       "      <td>0.794817</td>\n",
       "      <td>0.744034</td>\n",
       "      <td>0.670769</td>\n",
       "      <td>0.428510</td>\n",
       "      <td>0.309779</td>\n",
       "      <td>0.249968</td>\n",
       "      <td>0.226113</td>\n",
       "    </tr>\n",
       "    <tr>\n",
       "      <th>...</th>\n",
       "      <td>...</td>\n",
       "      <td>...</td>\n",
       "      <td>...</td>\n",
       "      <td>...</td>\n",
       "      <td>...</td>\n",
       "      <td>...</td>\n",
       "      <td>...</td>\n",
       "      <td>...</td>\n",
       "      <td>...</td>\n",
       "      <td>...</td>\n",
       "      <td>...</td>\n",
       "      <td>...</td>\n",
       "    </tr>\n",
       "    <tr>\n",
       "      <th>178</th>\n",
       "      <td>0.995405</td>\n",
       "      <td>0.991351</td>\n",
       "      <td>0.989090</td>\n",
       "      <td>0.976330</td>\n",
       "      <td>0.913961</td>\n",
       "      <td>0.877609</td>\n",
       "      <td>0.793780</td>\n",
       "      <td>0.680567</td>\n",
       "      <td>0.351625</td>\n",
       "      <td>0.249233</td>\n",
       "      <td>0.204682</td>\n",
       "      <td>0.185433</td>\n",
       "    </tr>\n",
       "    <tr>\n",
       "      <th>179</th>\n",
       "      <td>0.896379</td>\n",
       "      <td>0.891812</td>\n",
       "      <td>0.888416</td>\n",
       "      <td>0.871304</td>\n",
       "      <td>0.840749</td>\n",
       "      <td>0.794817</td>\n",
       "      <td>0.744034</td>\n",
       "      <td>0.670769</td>\n",
       "      <td>0.428510</td>\n",
       "      <td>0.309779</td>\n",
       "      <td>0.249968</td>\n",
       "      <td>0.226113</td>\n",
       "    </tr>\n",
       "    <tr>\n",
       "      <th>180</th>\n",
       "      <td>0.987604</td>\n",
       "      <td>0.983895</td>\n",
       "      <td>0.981893</td>\n",
       "      <td>0.975344</td>\n",
       "      <td>0.953802</td>\n",
       "      <td>0.870412</td>\n",
       "      <td>0.774642</td>\n",
       "      <td>0.655742</td>\n",
       "      <td>0.425755</td>\n",
       "      <td>0.294226</td>\n",
       "      <td>0.221310</td>\n",
       "      <td>0.199276</td>\n",
       "    </tr>\n",
       "    <tr>\n",
       "      <th>181</th>\n",
       "      <td>0.984777</td>\n",
       "      <td>0.980393</td>\n",
       "      <td>0.978243</td>\n",
       "      <td>0.963289</td>\n",
       "      <td>0.915999</td>\n",
       "      <td>0.877352</td>\n",
       "      <td>0.789716</td>\n",
       "      <td>0.705935</td>\n",
       "      <td>0.331817</td>\n",
       "      <td>0.245805</td>\n",
       "      <td>0.199774</td>\n",
       "      <td>0.180788</td>\n",
       "    </tr>\n",
       "    <tr>\n",
       "      <th>182</th>\n",
       "      <td>0.984777</td>\n",
       "      <td>0.980393</td>\n",
       "      <td>0.978243</td>\n",
       "      <td>0.963289</td>\n",
       "      <td>0.915999</td>\n",
       "      <td>0.877352</td>\n",
       "      <td>0.789716</td>\n",
       "      <td>0.705935</td>\n",
       "      <td>0.331817</td>\n",
       "      <td>0.245805</td>\n",
       "      <td>0.199774</td>\n",
       "      <td>0.180788</td>\n",
       "    </tr>\n",
       "  </tbody>\n",
       "</table>\n",
       "<p>183 rows × 12 columns</p>\n",
       "</div>"
      ],
      "text/plain": [
       "           3         10        17        25        32        40        47  \\\n",
       "0    0.987604  0.983895  0.981893  0.975344  0.953802  0.870412  0.774642   \n",
       "1    0.987604  0.983895  0.981893  0.975344  0.953802  0.870412  0.774642   \n",
       "2    0.995405  0.991351  0.989090  0.976330  0.913961  0.877609  0.793780   \n",
       "3    0.994737  0.991058  0.988953  0.982534  0.952134  0.872444  0.781637   \n",
       "4    0.896379  0.891812  0.888416  0.871304  0.840749  0.794817  0.744034   \n",
       "..        ...       ...       ...       ...       ...       ...       ...   \n",
       "178  0.995405  0.991351  0.989090  0.976330  0.913961  0.877609  0.793780   \n",
       "179  0.896379  0.891812  0.888416  0.871304  0.840749  0.794817  0.744034   \n",
       "180  0.987604  0.983895  0.981893  0.975344  0.953802  0.870412  0.774642   \n",
       "181  0.984777  0.980393  0.978243  0.963289  0.915999  0.877352  0.789716   \n",
       "182  0.984777  0.980393  0.978243  0.963289  0.915999  0.877352  0.789716   \n",
       "\n",
       "           55        62        70        77        85  \n",
       "0    0.655742  0.425755  0.294226  0.221310  0.199276  \n",
       "1    0.655742  0.425755  0.294226  0.221310  0.199276  \n",
       "2    0.680567  0.351625  0.249233  0.204682  0.185433  \n",
       "3    0.650523  0.426358  0.281225  0.216749  0.195540  \n",
       "4    0.670769  0.428510  0.309779  0.249968  0.226113  \n",
       "..        ...       ...       ...       ...       ...  \n",
       "178  0.680567  0.351625  0.249233  0.204682  0.185433  \n",
       "179  0.670769  0.428510  0.309779  0.249968  0.226113  \n",
       "180  0.655742  0.425755  0.294226  0.221310  0.199276  \n",
       "181  0.705935  0.331817  0.245805  0.199774  0.180788  \n",
       "182  0.705935  0.331817  0.245805  0.199774  0.180788  \n",
       "\n",
       "[183 rows x 12 columns]"
      ]
     },
     "execution_count": 90,
     "metadata": {},
     "output_type": "execute_result"
    }
   ],
   "source": [
    "preds"
   ]
  },
  {
   "cell_type": "code",
   "execution_count": 91,
   "id": "3d66e621-3958-4269-acb1-e2b37bf2cbee",
   "metadata": {
    "tags": []
   },
   "outputs": [],
   "source": [
    "preds.to_csv(\"May18_preds_xgb_lor.csv\", index = True)"
   ]
  },
  {
   "cell_type": "code",
   "execution_count": 167,
   "id": "c26a4cb8-eca2-416d-be37-491d2c83f468",
   "metadata": {
    "tags": []
   },
   "outputs": [],
   "source": [
    "# Now, pick any 4 pipes with proper indexing.\n",
    "\n",
    "# Storing indices first\n",
    "inds_for_surv_pred_risk_pipes = list(for_surv_pred_risk_pipes.index)\n",
    "\n",
    "# Randomly picking any 4 numbers from the range of 0 to len(for_surv_pred_risk_pipes)\n",
    "\n",
    "# NOTE:- Randomly picking 4 numbers gives the same trajectory for at least 2 pipes, tried multiple times. Hence, picking manually.\n",
    "rand_nums_inds = random.sample(range(0,len(for_surv_pred_risk_pipes)), 4)"
   ]
  },
  {
   "cell_type": "code",
   "execution_count": 168,
   "id": "49e854ad-9ddf-4d0c-9b9e-8a5376afd057",
   "metadata": {
    "tags": []
   },
   "outputs": [],
   "source": [
    "nums_inds = [181,179,3,1]"
   ]
  },
  {
   "cell_type": "code",
   "execution_count": 169,
   "id": "913405f7-a150-439d-b737-f891fb9c3f11",
   "metadata": {
    "tags": []
   },
   "outputs": [],
   "source": [
    "final_df = risk_pipes.iloc[nums_inds]"
   ]
  },
  {
   "cell_type": "code",
   "execution_count": 170,
   "id": "65853ae4-7fec-48d6-81b9-1dd9506a3ee2",
   "metadata": {
    "tags": []
   },
   "outputs": [
    {
     "data": {
      "text/html": [
       "<div>\n",
       "<style scoped>\n",
       "    .dataframe tbody tr th:only-of-type {\n",
       "        vertical-align: middle;\n",
       "    }\n",
       "\n",
       "    .dataframe tbody tr th {\n",
       "        vertical-align: top;\n",
       "    }\n",
       "\n",
       "    .dataframe thead th {\n",
       "        text-align: right;\n",
       "    }\n",
       "</style>\n",
       "<table border=\"1\" class=\"dataframe\">\n",
       "  <thead>\n",
       "    <tr style=\"text-align: right;\">\n",
       "      <th></th>\n",
       "      <th>PIPE_DIAMETER</th>\n",
       "      <th>PIPE_LENGTH</th>\n",
       "      <th>Age</th>\n",
       "      <th>PRESSURE_ZONE_BRESLAU</th>\n",
       "      <th>PRESSURE_ZONE_BRIDGEPORT</th>\n",
       "      <th>PRESSURE_ZONE_KIT 2E</th>\n",
       "      <th>PRESSURE_ZONE_KIT 2EA</th>\n",
       "      <th>PRESSURE_ZONE_KIT 2W</th>\n",
       "      <th>PRESSURE_ZONE_KIT 4</th>\n",
       "      <th>PRESSURE_ZONE_KIT 4A</th>\n",
       "      <th>...</th>\n",
       "      <th>MATERIAL_CPP</th>\n",
       "      <th>MATERIAL_DI</th>\n",
       "      <th>MATERIAL_HDPE</th>\n",
       "      <th>MATERIAL_PVC</th>\n",
       "      <th>MATERIAL_PVCB</th>\n",
       "      <th>MATERIAL_PVCF</th>\n",
       "      <th>MATERIAL_PVCO</th>\n",
       "      <th>MATERIAL_ST</th>\n",
       "      <th>Predicted condition</th>\n",
       "      <th>Label</th>\n",
       "    </tr>\n",
       "  </thead>\n",
       "  <tbody>\n",
       "    <tr>\n",
       "      <th>2048</th>\n",
       "      <td>0.652872</td>\n",
       "      <td>1.080459</td>\n",
       "      <td>1.111221</td>\n",
       "      <td>0</td>\n",
       "      <td>0</td>\n",
       "      <td>0</td>\n",
       "      <td>0</td>\n",
       "      <td>0</td>\n",
       "      <td>1</td>\n",
       "      <td>0</td>\n",
       "      <td>...</td>\n",
       "      <td>0</td>\n",
       "      <td>1</td>\n",
       "      <td>0</td>\n",
       "      <td>0</td>\n",
       "      <td>0</td>\n",
       "      <td>0</td>\n",
       "      <td>0</td>\n",
       "      <td>0</td>\n",
       "      <td>8.2825</td>\n",
       "      <td>0</td>\n",
       "    </tr>\n",
       "    <tr>\n",
       "      <th>2920</th>\n",
       "      <td>-1.830961</td>\n",
       "      <td>-0.444784</td>\n",
       "      <td>-0.939395</td>\n",
       "      <td>0</td>\n",
       "      <td>0</td>\n",
       "      <td>0</td>\n",
       "      <td>0</td>\n",
       "      <td>0</td>\n",
       "      <td>1</td>\n",
       "      <td>0</td>\n",
       "      <td>...</td>\n",
       "      <td>0</td>\n",
       "      <td>0</td>\n",
       "      <td>0</td>\n",
       "      <td>1</td>\n",
       "      <td>0</td>\n",
       "      <td>0</td>\n",
       "      <td>0</td>\n",
       "      <td>0</td>\n",
       "      <td>7.5020</td>\n",
       "      <td>0</td>\n",
       "    </tr>\n",
       "    <tr>\n",
       "      <th>163</th>\n",
       "      <td>1.556083</td>\n",
       "      <td>-0.454258</td>\n",
       "      <td>1.202359</td>\n",
       "      <td>0</td>\n",
       "      <td>0</td>\n",
       "      <td>0</td>\n",
       "      <td>0</td>\n",
       "      <td>0</td>\n",
       "      <td>0</td>\n",
       "      <td>0</td>\n",
       "      <td>...</td>\n",
       "      <td>0</td>\n",
       "      <td>0</td>\n",
       "      <td>0</td>\n",
       "      <td>0</td>\n",
       "      <td>0</td>\n",
       "      <td>0</td>\n",
       "      <td>0</td>\n",
       "      <td>0</td>\n",
       "      <td>7.8500</td>\n",
       "      <td>0</td>\n",
       "    </tr>\n",
       "    <tr>\n",
       "      <th>1353</th>\n",
       "      <td>2.007689</td>\n",
       "      <td>-0.453072</td>\n",
       "      <td>1.156790</td>\n",
       "      <td>0</td>\n",
       "      <td>0</td>\n",
       "      <td>0</td>\n",
       "      <td>0</td>\n",
       "      <td>0</td>\n",
       "      <td>1</td>\n",
       "      <td>0</td>\n",
       "      <td>...</td>\n",
       "      <td>0</td>\n",
       "      <td>0</td>\n",
       "      <td>0</td>\n",
       "      <td>0</td>\n",
       "      <td>0</td>\n",
       "      <td>0</td>\n",
       "      <td>0</td>\n",
       "      <td>0</td>\n",
       "      <td>7.8500</td>\n",
       "      <td>0</td>\n",
       "    </tr>\n",
       "  </tbody>\n",
       "</table>\n",
       "<p>4 rows × 28 columns</p>\n",
       "</div>"
      ],
      "text/plain": [
       "      PIPE_DIAMETER  PIPE_LENGTH       Age  PRESSURE_ZONE_BRESLAU  \\\n",
       "2048       0.652872     1.080459  1.111221                      0   \n",
       "2920      -1.830961    -0.444784 -0.939395                      0   \n",
       "163        1.556083    -0.454258  1.202359                      0   \n",
       "1353       2.007689    -0.453072  1.156790                      0   \n",
       "\n",
       "      PRESSURE_ZONE_BRIDGEPORT  PRESSURE_ZONE_KIT 2E  PRESSURE_ZONE_KIT 2EA  \\\n",
       "2048                         0                     0                      0   \n",
       "2920                         0                     0                      0   \n",
       "163                          0                     0                      0   \n",
       "1353                         0                     0                      0   \n",
       "\n",
       "      PRESSURE_ZONE_KIT 2W  PRESSURE_ZONE_KIT 4  PRESSURE_ZONE_KIT 4A  ...  \\\n",
       "2048                     0                    1                     0  ...   \n",
       "2920                     0                    1                     0  ...   \n",
       "163                      0                    0                     0  ...   \n",
       "1353                     0                    1                     0  ...   \n",
       "\n",
       "      MATERIAL_CPP  MATERIAL_DI  MATERIAL_HDPE  MATERIAL_PVC  MATERIAL_PVCB  \\\n",
       "2048             0            1              0             0              0   \n",
       "2920             0            0              0             1              0   \n",
       "163              0            0              0             0              0   \n",
       "1353             0            0              0             0              0   \n",
       "\n",
       "      MATERIAL_PVCF  MATERIAL_PVCO  MATERIAL_ST  Predicted condition  Label  \n",
       "2048              0              0            0               8.2825      0  \n",
       "2920              0              0            0               7.5020      0  \n",
       "163               0              0            0               7.8500      0  \n",
       "1353              0              0            0               7.8500      0  \n",
       "\n",
       "[4 rows x 28 columns]"
      ]
     },
     "execution_count": 170,
     "metadata": {},
     "output_type": "execute_result"
    }
   ],
   "source": [
    "final_df"
   ]
  },
  {
   "cell_type": "code",
   "execution_count": 171,
   "id": "18d896b0-82a1-4c41-a8e2-74359f6a856d",
   "metadata": {
    "tags": []
   },
   "outputs": [],
   "source": [
    "final_df_surv = preds.iloc[nums_inds]"
   ]
  },
  {
   "cell_type": "code",
   "execution_count": 172,
   "id": "1e67491a-28ba-4611-a73b-79586af39dbb",
   "metadata": {
    "tags": []
   },
   "outputs": [
    {
     "data": {
      "text/html": [
       "<div>\n",
       "<style scoped>\n",
       "    .dataframe tbody tr th:only-of-type {\n",
       "        vertical-align: middle;\n",
       "    }\n",
       "\n",
       "    .dataframe tbody tr th {\n",
       "        vertical-align: top;\n",
       "    }\n",
       "\n",
       "    .dataframe thead th {\n",
       "        text-align: right;\n",
       "    }\n",
       "</style>\n",
       "<table border=\"1\" class=\"dataframe\">\n",
       "  <thead>\n",
       "    <tr style=\"text-align: right;\">\n",
       "      <th></th>\n",
       "      <th>3</th>\n",
       "      <th>10</th>\n",
       "      <th>17</th>\n",
       "      <th>25</th>\n",
       "      <th>32</th>\n",
       "      <th>40</th>\n",
       "      <th>47</th>\n",
       "      <th>55</th>\n",
       "      <th>62</th>\n",
       "      <th>70</th>\n",
       "      <th>77</th>\n",
       "      <th>85</th>\n",
       "    </tr>\n",
       "  </thead>\n",
       "  <tbody>\n",
       "    <tr>\n",
       "      <th>181</th>\n",
       "      <td>0.984777</td>\n",
       "      <td>0.980393</td>\n",
       "      <td>0.978243</td>\n",
       "      <td>0.963289</td>\n",
       "      <td>0.915999</td>\n",
       "      <td>0.877352</td>\n",
       "      <td>0.789716</td>\n",
       "      <td>0.705935</td>\n",
       "      <td>0.331817</td>\n",
       "      <td>0.245805</td>\n",
       "      <td>0.199774</td>\n",
       "      <td>0.180788</td>\n",
       "    </tr>\n",
       "    <tr>\n",
       "      <th>179</th>\n",
       "      <td>0.896379</td>\n",
       "      <td>0.891812</td>\n",
       "      <td>0.888416</td>\n",
       "      <td>0.871304</td>\n",
       "      <td>0.840749</td>\n",
       "      <td>0.794817</td>\n",
       "      <td>0.744034</td>\n",
       "      <td>0.670769</td>\n",
       "      <td>0.428510</td>\n",
       "      <td>0.309779</td>\n",
       "      <td>0.249968</td>\n",
       "      <td>0.226113</td>\n",
       "    </tr>\n",
       "    <tr>\n",
       "      <th>3</th>\n",
       "      <td>0.994737</td>\n",
       "      <td>0.991058</td>\n",
       "      <td>0.988953</td>\n",
       "      <td>0.982534</td>\n",
       "      <td>0.952134</td>\n",
       "      <td>0.872444</td>\n",
       "      <td>0.781637</td>\n",
       "      <td>0.650523</td>\n",
       "      <td>0.426358</td>\n",
       "      <td>0.281225</td>\n",
       "      <td>0.216749</td>\n",
       "      <td>0.195540</td>\n",
       "    </tr>\n",
       "    <tr>\n",
       "      <th>1</th>\n",
       "      <td>0.987604</td>\n",
       "      <td>0.983895</td>\n",
       "      <td>0.981893</td>\n",
       "      <td>0.975344</td>\n",
       "      <td>0.953802</td>\n",
       "      <td>0.870412</td>\n",
       "      <td>0.774642</td>\n",
       "      <td>0.655742</td>\n",
       "      <td>0.425755</td>\n",
       "      <td>0.294226</td>\n",
       "      <td>0.221310</td>\n",
       "      <td>0.199276</td>\n",
       "    </tr>\n",
       "  </tbody>\n",
       "</table>\n",
       "</div>"
      ],
      "text/plain": [
       "           3         10        17        25        32        40        47  \\\n",
       "181  0.984777  0.980393  0.978243  0.963289  0.915999  0.877352  0.789716   \n",
       "179  0.896379  0.891812  0.888416  0.871304  0.840749  0.794817  0.744034   \n",
       "3    0.994737  0.991058  0.988953  0.982534  0.952134  0.872444  0.781637   \n",
       "1    0.987604  0.983895  0.981893  0.975344  0.953802  0.870412  0.774642   \n",
       "\n",
       "           55        62        70        77        85  \n",
       "181  0.705935  0.331817  0.245805  0.199774  0.180788  \n",
       "179  0.670769  0.428510  0.309779  0.249968  0.226113  \n",
       "3    0.650523  0.426358  0.281225  0.216749  0.195540  \n",
       "1    0.655742  0.425755  0.294226  0.221310  0.199276  "
      ]
     },
     "execution_count": 172,
     "metadata": {},
     "output_type": "execute_result"
    }
   ],
   "source": [
    "final_df_surv"
   ]
  },
  {
   "cell_type": "code",
   "execution_count": 176,
   "id": "efb12b01-b95c-47ff-b7f0-e129c13661ea",
   "metadata": {
    "tags": []
   },
   "outputs": [
    {
     "data": {
      "image/png": "[encoded data removed]",
      "text/plain": [
       "<Figure size 640x480 with 1 Axes>"
      ]
     },
     "metadata": {},
     "output_type": "display_data"
    }
   ],
   "source": [
    "for i in range(len(final_df_surv)):\n",
    "    plt.plot(final_df_surv.columns, final_df_surv.iloc[i], label=f'Pipe {i+1}')\n",
    "# Set labels and title\n",
    "plt.xlabel('Years')\n",
    "plt.ylabel('Survival Probability')\n",
    "# plt.title('Probability Values for Each Row')\n",
    "plt.grid(True)\n",
    "plt.legend()\n",
    "plt.savefig(\"surv_prob_4_pipes.png\")\n",
    "# Show plot\n",
    "plt.show()"
   ]
  },
  {
   "cell_type": "code",
   "execution_count": 178,
   "id": "1b388862-a746-4095-907f-8b17a3256296",
   "metadata": {
    "tags": []
   },
   "outputs": [
    {
     "name": "stderr",
     "output_type": "stream",
     "text": [
      "C:\\Users\\asus_\\AppData\\Local\\Temp\\ipykernel_24136\\2857652928.py:4: SettingWithCopyWarning: \n",
      "A value is trying to be set on a copy of a slice from a DataFrame.\n",
      "Try using .loc[row_indexer,col_indexer] = value instead\n",
      "\n",
      "See the caveats in the documentation: https://pandas.pydata.org/pandas-docs/stable/user_guide/indexing.html#returning-a-view-versus-a-copy\n",
      "  final_df['Priority'] = order_of_repair\n"
     ]
    }
   ],
   "source": [
    "# Based on final_df_surv, let's look at 55 year mark. blue decreses sharply, and hence the order should be 1,3,4,2.\n",
    "# so even if the 2nd pipe starts with low chance of survial, it is estimate to last longer than the other 3.\n",
    "order_of_repair = [1,4,2,3]\n",
    "final_df['Priority'] = order_of_repair"
   ]
  },
  {
   "cell_type": "code",
   "execution_count": 179,
   "id": "7a713fea-8e9a-43c7-b581-46d77b2cb12d",
   "metadata": {
    "tags": []
   },
   "outputs": [
    {
     "data": {
      "text/html": [
       "<div>\n",
       "<style scoped>\n",
       "    .dataframe tbody tr th:only-of-type {\n",
       "        vertical-align: middle;\n",
       "    }\n",
       "\n",
       "    .dataframe tbody tr th {\n",
       "        vertical-align: top;\n",
       "    }\n",
       "\n",
       "    .dataframe thead th {\n",
       "        text-align: right;\n",
       "    }\n",
       "</style>\n",
       "<table border=\"1\" class=\"dataframe\">\n",
       "  <thead>\n",
       "    <tr style=\"text-align: right;\">\n",
       "      <th></th>\n",
       "      <th>PIPE_DIAMETER</th>\n",
       "      <th>PIPE_LENGTH</th>\n",
       "      <th>Age</th>\n",
       "      <th>PRESSURE_ZONE_BRESLAU</th>\n",
       "      <th>PRESSURE_ZONE_BRIDGEPORT</th>\n",
       "      <th>PRESSURE_ZONE_KIT 2E</th>\n",
       "      <th>PRESSURE_ZONE_KIT 2EA</th>\n",
       "      <th>PRESSURE_ZONE_KIT 2W</th>\n",
       "      <th>PRESSURE_ZONE_KIT 4</th>\n",
       "      <th>PRESSURE_ZONE_KIT 4A</th>\n",
       "      <th>...</th>\n",
       "      <th>MATERIAL_DI</th>\n",
       "      <th>MATERIAL_HDPE</th>\n",
       "      <th>MATERIAL_PVC</th>\n",
       "      <th>MATERIAL_PVCB</th>\n",
       "      <th>MATERIAL_PVCF</th>\n",
       "      <th>MATERIAL_PVCO</th>\n",
       "      <th>MATERIAL_ST</th>\n",
       "      <th>Predicted condition</th>\n",
       "      <th>Label</th>\n",
       "      <th>Priority</th>\n",
       "    </tr>\n",
       "  </thead>\n",
       "  <tbody>\n",
       "    <tr>\n",
       "      <th>2048</th>\n",
       "      <td>0.652872</td>\n",
       "      <td>1.080459</td>\n",
       "      <td>1.111221</td>\n",
       "      <td>0</td>\n",
       "      <td>0</td>\n",
       "      <td>0</td>\n",
       "      <td>0</td>\n",
       "      <td>0</td>\n",
       "      <td>1</td>\n",
       "      <td>0</td>\n",
       "      <td>...</td>\n",
       "      <td>1</td>\n",
       "      <td>0</td>\n",
       "      <td>0</td>\n",
       "      <td>0</td>\n",
       "      <td>0</td>\n",
       "      <td>0</td>\n",
       "      <td>0</td>\n",
       "      <td>8.2825</td>\n",
       "      <td>0</td>\n",
       "      <td>1</td>\n",
       "    </tr>\n",
       "    <tr>\n",
       "      <th>2920</th>\n",
       "      <td>-1.830961</td>\n",
       "      <td>-0.444784</td>\n",
       "      <td>-0.939395</td>\n",
       "      <td>0</td>\n",
       "      <td>0</td>\n",
       "      <td>0</td>\n",
       "      <td>0</td>\n",
       "      <td>0</td>\n",
       "      <td>1</td>\n",
       "      <td>0</td>\n",
       "      <td>...</td>\n",
       "      <td>0</td>\n",
       "      <td>0</td>\n",
       "      <td>1</td>\n",
       "      <td>0</td>\n",
       "      <td>0</td>\n",
       "      <td>0</td>\n",
       "      <td>0</td>\n",
       "      <td>7.5020</td>\n",
       "      <td>0</td>\n",
       "      <td>4</td>\n",
       "    </tr>\n",
       "    <tr>\n",
       "      <th>163</th>\n",
       "      <td>1.556083</td>\n",
       "      <td>-0.454258</td>\n",
       "      <td>1.202359</td>\n",
       "      <td>0</td>\n",
       "      <td>0</td>\n",
       "      <td>0</td>\n",
       "      <td>0</td>\n",
       "      <td>0</td>\n",
       "      <td>0</td>\n",
       "      <td>0</td>\n",
       "      <td>...</td>\n",
       "      <td>0</td>\n",
       "      <td>0</td>\n",
       "      <td>0</td>\n",
       "      <td>0</td>\n",
       "      <td>0</td>\n",
       "      <td>0</td>\n",
       "      <td>0</td>\n",
       "      <td>7.8500</td>\n",
       "      <td>0</td>\n",
       "      <td>2</td>\n",
       "    </tr>\n",
       "    <tr>\n",
       "      <th>1353</th>\n",
       "      <td>2.007689</td>\n",
       "      <td>-0.453072</td>\n",
       "      <td>1.156790</td>\n",
       "      <td>0</td>\n",
       "      <td>0</td>\n",
       "      <td>0</td>\n",
       "      <td>0</td>\n",
       "      <td>0</td>\n",
       "      <td>1</td>\n",
       "      <td>0</td>\n",
       "      <td>...</td>\n",
       "      <td>0</td>\n",
       "      <td>0</td>\n",
       "      <td>0</td>\n",
       "      <td>0</td>\n",
       "      <td>0</td>\n",
       "      <td>0</td>\n",
       "      <td>0</td>\n",
       "      <td>7.8500</td>\n",
       "      <td>0</td>\n",
       "      <td>3</td>\n",
       "    </tr>\n",
       "  </tbody>\n",
       "</table>\n",
       "<p>4 rows × 29 columns</p>\n",
       "</div>"
      ],
      "text/plain": [
       "      PIPE_DIAMETER  PIPE_LENGTH       Age  PRESSURE_ZONE_BRESLAU  \\\n",
       "2048       0.652872     1.080459  1.111221                      0   \n",
       "2920      -1.830961    -0.444784 -0.939395                      0   \n",
       "163        1.556083    -0.454258  1.202359                      0   \n",
       "1353       2.007689    -0.453072  1.156790                      0   \n",
       "\n",
       "      PRESSURE_ZONE_BRIDGEPORT  PRESSURE_ZONE_KIT 2E  PRESSURE_ZONE_KIT 2EA  \\\n",
       "2048                         0                     0                      0   \n",
       "2920                         0                     0                      0   \n",
       "163                          0                     0                      0   \n",
       "1353                         0                     0                      0   \n",
       "\n",
       "      PRESSURE_ZONE_KIT 2W  PRESSURE_ZONE_KIT 4  PRESSURE_ZONE_KIT 4A  ...  \\\n",
       "2048                     0                    1                     0  ...   \n",
       "2920                     0                    1                     0  ...   \n",
       "163                      0                    0                     0  ...   \n",
       "1353                     0                    1                     0  ...   \n",
       "\n",
       "      MATERIAL_DI  MATERIAL_HDPE  MATERIAL_PVC  MATERIAL_PVCB  MATERIAL_PVCF  \\\n",
       "2048            1              0             0              0              0   \n",
       "2920            0              0             1              0              0   \n",
       "163             0              0             0              0              0   \n",
       "1353            0              0             0              0              0   \n",
       "\n",
       "      MATERIAL_PVCO  MATERIAL_ST  Predicted condition  Label  Priority  \n",
       "2048              0            0               8.2825      0         1  \n",
       "2920              0            0               7.5020      0         4  \n",
       "163               0            0               7.8500      0         2  \n",
       "1353              0            0               7.8500      0         3  \n",
       "\n",
       "[4 rows x 29 columns]"
      ]
     },
     "execution_count": 179,
     "metadata": {},
     "output_type": "execute_result"
    }
   ],
   "source": [
    "final_df"
   ]
  },
  {
   "cell_type": "code",
   "execution_count": 180,
   "id": "5745ec14-df0f-43b0-842a-fc60217f8a80",
   "metadata": {
    "tags": []
   },
   "outputs": [],
   "source": [
    "data_to_send = final_df[['Predicted condition','Priority']]\n",
    "data_to_send.to_csv(\"DATA_FOR_CSP.csv\", index = False)"
   ]
  },
  {
   "cell_type": "markdown",
   "id": "d83a8b49-1e7b-4d88-af26-2271e5ab589a",
   "metadata": {},
   "source": []
  },
  {
   "cell_type": "markdown",
   "id": "ea117785-e30d-4c50-8261-7b92e17e36c7",
   "metadata": {},
   "source": []
  },
  {
   "cell_type": "markdown",
   "id": "8edc9948-d01f-4f89-8c26-cc7f78c9a543",
   "metadata": {},
   "source": []
  },
  {
   "cell_type": "markdown",
   "id": "3fe4874b-c6d0-44e6-a4d1-deff5e6785af",
   "metadata": {},
   "source": []
  },
  {
   "cell_type": "markdown",
   "id": "28b4201f-b0e2-4b03-a545-1f04bbf7de4a",
   "metadata": {},
   "source": []
  },
  {
   "cell_type": "markdown",
   "id": "e9bfbd91-50f3-4420-80e8-ad946ff899ab",
   "metadata": {},
   "source": []
  },
  {
   "cell_type": "markdown",
   "id": "43a1a1cc-38af-4e21-b499-108bc131040a",
   "metadata": {},
   "source": []
  },
  {
   "cell_type": "markdown",
   "id": "f1d04c4d-d7ae-4d6d-b70c-9bf5a95564db",
   "metadata": {},
   "source": []
  },
  {
   "cell_type": "code",
   "execution_count": 183,
   "id": "3f707217-489f-44fc-8d96-89520c3b2c88",
   "metadata": {
    "tags": []
   },
   "outputs": [
    {
     "data": {
      "text/plain": [
       "2"
      ]
     },
     "execution_count": 183,
     "metadata": {},
     "output_type": "execute_result"
    }
   ],
   "source": [
    "ret = [24,12,56,2]\n",
    "ret.index(max(ret))"
   ]
  }
 ],
 "metadata": {
  "kernelspec": {
   "display_name": "Python 3 (ipykernel)",
   "language": "python",
   "name": "python3"
  },
  "language_info": {
   "codemirror_mode": {
    "name": "ipython",
    "version": 3
   },
   "file_extension": ".py",
   "mimetype": "text/x-python",
   "name": "python",
   "nbconvert_exporter": "python",
   "pygments_lexer": "ipython3",
   "version": "3.11.3"
  },
  "widgets": {
   "application/vnd.jupyter.widget-state+json": {
    "state": {},
    "version_major": 2,
    "version_minor": 0
   }
  }
 },
 "nbformat": 4,
 "nbformat_minor": 5
}
